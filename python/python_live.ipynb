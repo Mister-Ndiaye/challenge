{
 "cells": [
  {
   "cell_type": "markdown",
   "id": "9cfd8394",
   "metadata": {},
   "source": [
    "1  Fist Way to do it using the for loop"
   ]
  },
  {
   "cell_type": "code",
   "execution_count": 5,
   "id": "a33d488f",
   "metadata": {},
   "outputs": [
    {
     "data": {
      "text/plain": [
       "'The element, 433, was not found in the list'"
      ]
     },
     "execution_count": 5,
     "metadata": {},
     "output_type": "execute_result"
    }
   ],
   "source": [
    "liste = [1,4,10,17]\n",
    "\n",
    "def isInList(liste,search_element):\n",
    "    for element in liste:\n",
    "        if element==search_element:\n",
    "            return f\"The element, {search_element}, was  found in the list\"\n",
    "    return f\"The element, {search_element}, was not found in the list\"\n",
    "\n",
    "isInList(liste,433)"
   ]
  },
  {
   "cell_type": "markdown",
   "id": "ec9293f2",
   "metadata": {},
   "source": [
    "2  Second Way to do it using the for loop\n",
    "Using For Else"
   ]
  },
  {
   "cell_type": "code",
   "execution_count": 7,
   "id": "86bcc9da",
   "metadata": {},
   "outputs": [
    {
     "name": "stdout",
     "output_type": "stream",
     "text": [
      "The element, 4, was  found in the list\n"
     ]
    }
   ],
   "source": [
    "search_element=4\n",
    "for element in liste:\n",
    "    if element==search_element:\n",
    "        print(f\"The element, {search_element}, was  found in the list\")\n",
    "        break\n",
    "else:\n",
    "    print(f\"The element, {search_element}, was not found in the list\")"
   ]
  },
  {
   "cell_type": "code",
   "execution_count": null,
   "id": "39897453",
   "metadata": {},
   "outputs": [],
   "source": [
    "def isInList(liste,search_element):\n",
    "    search_element=4\n",
    "    for element in liste:\n",
    "        if element==search_element:\n",
    "            return f\"The element, {search_element}, was  found in the list\"    \n",
    "    else:\n",
    "        return f\"The element, {search_element}, was not found in the list\""
   ]
  },
  {
   "cell_type": "markdown",
   "id": "c6cc87fa",
   "metadata": {},
   "source": [
    "3  third Way to do it using the for loop\n",
    "Using a counter"
   ]
  },
  {
   "cell_type": "code",
   "execution_count": 18,
   "id": "b6a318ca",
   "metadata": {},
   "outputs": [
    {
     "name": "stdout",
     "output_type": "stream",
     "text": [
      "The element, 42, was not found in the list\n"
     ]
    }
   ],
   "source": [
    "search_element=42\n",
    "counter=0\n",
    "for element in liste:\n",
    "    if element==search_element:\n",
    "        print(f\"The element, {search_element}, was  found in the list\")\n",
    "        break\n",
    "    else:\n",
    "        counter+=1\n",
    "        if(counter==len(liste)):\n",
    "            print(f\"The element, {search_element}, was not found in the list\")\n",
    "        "
   ]
  },
  {
   "cell_type": "code",
   "execution_count": null,
   "id": "b6a6e738",
   "metadata": {},
   "outputs": [],
   "source": [
    "4  FORTH Way to do it using the for loop\n",
    "Using a the length and the iterator"
   ]
  },
  {
   "cell_type": "code",
   "execution_count": 22,
   "id": "8caef659",
   "metadata": {},
   "outputs": [
    {
     "name": "stdout",
     "output_type": "stream",
     "text": [
      "The element, 4, was  found in the list\n"
     ]
    }
   ],
   "source": [
    "search_element=4\n",
    "for element in liste:\n",
    "    if element==search_element:\n",
    "        print(f\"The element, {search_element}, was  found in the list\")\n",
    "        break\n",
    "    else:\n",
    "        if(liste.index(element)+1==len(liste)):\n",
    "            print(f\"The element, {search_element}, was not found in the list\")\n",
    "        "
   ]
  },
  {
   "cell_type": "markdown",
   "id": "8764f8db",
   "metadata": {},
   "source": [
    "Without the For Loop"
   ]
  },
  {
   "cell_type": "code",
   "execution_count": null,
   "id": "92379a22",
   "metadata": {},
   "outputs": [],
   "source": [
    "def isInList(liste, search_element):\n",
    "    if search_element in liste:\n",
    "        return f\"The element, {search_element}, was found in the list\"\n",
    "    return f\"The element, {search_element}, was not found in the list\"\n"
   ]
  },
  {
   "cell_type": "code",
   "execution_count": 30,
   "id": "2be0afa4",
   "metadata": {},
   "outputs": [
    {
     "name": "stdout",
     "output_type": "stream",
     "text": [
      "*\n",
      "**\n",
      "***\n",
      "****\n",
      "1\n",
      "12\n",
      "123\n",
      "1234\n",
      "A\n",
      "BB\n",
      "CCC\n",
      "DDDD\n"
     ]
    }
   ],
   "source": [
    "a=\"\"\n",
    "alpgnabet = ['A','B','C','D','E','F']\n",
    "for i in range(3):\n",
    "    if(i==0):\n",
    "        for j in range(1,5):\n",
    "            print(j*'*')\n",
    "    if(i==1):\n",
    "        for j in range(1,5):\n",
    "            a+=str(j)\n",
    "            print(a)\n",
    "    if(i==2):\n",
    "        for j in range(1,5):\n",
    "            print(j*alpgnabet[j-1])"
   ]
  },
  {
   "cell_type": "code",
   "execution_count": null,
   "id": "725bd227",
   "metadata": {},
   "outputs": [],
   "source": [
    "palindrome"
   ]
  },
  {
   "cell_type": "code",
   "execution_count": 40,
   "id": "2f15fcdb",
   "metadata": {},
   "outputs": [
    {
     "data": {
      "text/plain": [
       "False"
      ]
     },
     "execution_count": 40,
     "metadata": {},
     "output_type": "execute_result"
    }
   ],
   "source": [
    "def ispalindrome(text):\n",
    "    normal =text\n",
    "    text_list=list(text)\n",
    "    text_list.reverse()\n",
    "    return normal== \"\".join(text_list)\n",
    "ispalindrome('matam')"
   ]
  },
  {
   "cell_type": "code",
   "execution_count": 35,
   "id": "701fc287",
   "metadata": {},
   "outputs": [
    {
     "data": {
      "text/plain": [
       "['o', 'l', 'l', 'e', 'h']"
      ]
     },
     "execution_count": 35,
     "metadata": {},
     "output_type": "execute_result"
    }
   ],
   "source": [
    "a =\"hello\"\n",
    "b = list(a)\n",
    "b.reverse()\n",
    "b"
   ]
  }
 ],
 "metadata": {
  "kernelspec": {
   "display_name": "Python 3 (ipykernel)",
   "language": "python",
   "name": "python3"
  },
  "language_info": {
   "codemirror_mode": {
    "name": "ipython",
    "version": 3
   },
   "file_extension": ".py",
   "mimetype": "text/x-python",
   "name": "python",
   "nbconvert_exporter": "python",
   "pygments_lexer": "ipython3",
   "version": "3.11.0"
  }
 },
 "nbformat": 4,
 "nbformat_minor": 5
}

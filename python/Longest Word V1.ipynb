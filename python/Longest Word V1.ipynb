{
 "cells": [
  {
   "cell_type": "code",
   "execution_count": 44,
   "id": "7aea6421",
   "metadata": {},
   "outputs": [
    {
     "data": {
      "text/plain": [
       "'Alassane'"
      ]
     },
     "execution_count": 44,
     "metadata": {},
     "output_type": "execute_result"
    }
   ],
   "source": [
    "ch=\"i love mys!\"\n",
    "delimiter = '!\"#$%&\\'()*+,-./:;<=>?@[\\\\]^_`{|}~' \n",
    "\n",
    "def max_sun(word):\n",
    "    longest_word =''\n",
    "    longest_word_len=0\n",
    "    count_delimeter=0\n",
    "    delimiter = '!\"#$%&\\'()*+,-./:;<=>?@[\\\\]^_`{|}~' \n",
    "\n",
    "    for i in word.split():\n",
    "         if len(i)>longest_word_len:\n",
    "                \n",
    "                if all(delimiter.count(c)<=0 for c in i):\n",
    "                    longest_word=i\n",
    "                    longest_word_len=len(i)\n",
    "                else:\n",
    "                    a = [ delimiter.count(c) for c in i]\n",
    "                    if len(i)-sum(a)>longest_word_len:\n",
    "                        longest_word_len= len(i)-sum(a)\n",
    "                        longest_word= word[0:(len(i)-sum(a))]\n",
    "    return longest_word\n",
    "\n",
    "max_sun('hello word!!!!!! Alassane')"
   ]
  },
  {
   "cell_type": "code",
   "execution_count": 45,
   "id": "61ad91d9",
   "metadata": {},
   "outputs": [
    {
     "name": "stdout",
     "output_type": "stream",
     "text": [
      " dlrow oolleh\n"
     ]
    }
   ],
   "source": [
    "a = \"helloo world \"\n",
    "reversed_a = \"\"\n",
    "\n",
    "for char in a:\n",
    "    reversed_a = char + reversed_a\n",
    "\n",
    "print(reversed_a)  # Output: \" dlrow oolleh\"\n"
   ]
  }
 ],
 "metadata": {
  "kernelspec": {
   "display_name": "Python 3 (ipykernel)",
   "language": "python",
   "name": "python3"
  },
  "language_info": {
   "codemirror_mode": {
    "name": "ipython",
    "version": 3
   },
   "file_extension": ".py",
   "mimetype": "text/x-python",
   "name": "python",
   "nbconvert_exporter": "python",
   "pygments_lexer": "ipython3",
   "version": "3.11.0"
  }
 },
 "nbformat": 4,
 "nbformat_minor": 5
}

{
 "cells": [
  {
   "cell_type": "code",
   "execution_count": 19,
   "id": "db131bc5",
   "metadata": {},
   "outputs": [],
   "source": [
    "# a sorted array \n",
    "arr =[1,2,3,4] \n",
    "def two_sum(arr, target):\n",
    "    left,right =0,len(arr)-1\n",
    "    for i in range(len(arr)):\n",
    "        print(i)\n",
    "        sum = arr[left]+arr[right]\n",
    "        if sum == target :\n",
    "            return (arr[left],arr[right])\n",
    "        elif sum < target :\n",
    "            left +=1\n",
    "        else:\n",
    "            right-=1\n",
    "    return 0"
   ]
  },
  {
   "cell_type": "code",
   "execution_count": 20,
   "id": "8e87a0a0",
   "metadata": {},
   "outputs": [
    {
     "name": "stdout",
     "output_type": "stream",
     "text": [
      "0\n",
      "1\n",
      "2\n",
      "3\n"
     ]
    },
    {
     "data": {
      "text/plain": [
       "(1, 6)"
      ]
     },
     "execution_count": 20,
     "metadata": {},
     "output_type": "execute_result"
    }
   ],
   "source": [
    "a = [1,2,3,4,5,6,7,8,9]\n",
    "two_sum(a,7)"
   ]
  },
  {
   "cell_type": "code",
   "execution_count": 17,
   "id": "fbbd2203",
   "metadata": {},
   "outputs": [
    {
     "name": "stdout",
     "output_type": "stream",
     "text": [
      "10\n",
      "9\n",
      "8\n",
      "7\n",
      "1 6\n",
      "6\n",
      "5\n",
      "4\n",
      "3\n",
      "2\n"
     ]
    }
   ],
   "source": [
    "a = [1,2,3,4,5,6,7,8,9]\n",
    "s=7\n",
    "# for i in a:\n",
    "#     for j in a:\n",
    "#         if i+j==s and i!=j:\n",
    "#             print(i,j)\n",
    "# O(n)\n",
    "left , right=0,len(a)-1\n",
    "for i in range(len(a)):\n",
    "    sume= a[left]+a[right]\n",
    "    print(sume)\n",
    "    if s==sume:\n",
    "        print(a[left],a[right])\n",
    "    #left+=1\n",
    "    right-=1\n",
    "    \n"
   ]
  },
  {
   "cell_type": "code",
   "execution_count": null,
   "id": "c8fbf0bb",
   "metadata": {},
   "outputs": [],
   "source": []
  }
 ],
 "metadata": {
  "kernelspec": {
   "display_name": "Python 3 (ipykernel)",
   "language": "python",
   "name": "python3"
  },
  "language_info": {
   "codemirror_mode": {
    "name": "ipython",
    "version": 3
   },
   "file_extension": ".py",
   "mimetype": "text/x-python",
   "name": "python",
   "nbconvert_exporter": "python",
   "pygments_lexer": "ipython3",
   "version": "3.11.0"
  }
 },
 "nbformat": 4,
 "nbformat_minor": 5
}

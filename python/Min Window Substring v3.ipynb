{
 "cells": [
  {
   "cell_type": "markdown",
   "id": "7a195324",
   "metadata": {},
   "source": [
    "# Min Window Substring\n"
   ]
  },
  {
   "cell_type": "code",
   "execution_count": 8,
   "id": "16ea1f2f",
   "metadata": {},
   "outputs": [
    {
     "name": "stdout",
     "output_type": "stream",
     "text": [
      "eda\n",
      "daa\n"
     ]
    }
   ],
   "source": [
    "def MinWindowSubstring(strArr):\n",
    "    N, K = strArr\n",
    "    target_chars = set(K)\n",
    "    char_count = {}\n",
    "    min_length = float('inf')\n",
    "    min_substring = \"\"\n",
    "    \n",
    "    left, right = 0, 0\n",
    "    \n",
    "    while right < len(N):\n",
    "        if N[right] in target_chars:\n",
    "            char_count[N[right]] = char_count.get(N[right], 0) + 1\n",
    "            \n",
    "            while all(char_count.get(c, 0) >= K.count(c) for c in target_chars):\n",
    "                if right - left + 1 < min_length:\n",
    "                    min_substring = N[left:right+1]\n",
    "                    min_length = right - left + 1\n",
    "                    \n",
    "                if N[left] in target_chars:\n",
    "                    char_count[N[left]] -= 1\n",
    "                left += 1\n",
    "            \n",
    "        right += 1\n",
    "    \n",
    "    return min_substring\n",
    "\n",
    "# Test cases\n",
    "print(MinWindowSubstring([\"aaaebdaaddasedae\", \"aed\"]))    # Output: \"dae\"\n",
    "print(MinWindowSubstring([\"aabdccdbcacdaad\", \"aad\"]))  # Output: \"aabd\""
   ]
  },
  {
   "cell_type": "code",
   "execution_count": 11,
   "id": "6ff03a70",
   "metadata": {},
   "outputs": [
    {
     "name": "stdout",
     "output_type": "stream",
     "text": [
      "aaaebd\n",
      "aabd\n",
      "aaaebd\n"
     ]
    }
   ],
   "source": [
    " def MinWindowSubstringMine(strArr):\n",
    "    N, K = strArr\n",
    "    target_chars = set(K)\n",
    "    char_count = {}\n",
    "    min_length = float('inf')\n",
    "    min_substring = \"\"\n",
    "    \n",
    "    left, right = 0, 0\n",
    "    while right<len(N):\n",
    "\n",
    "        if N[right] in target_chars:\n",
    "            char_count[N[right]] = char_count.get(N[right], 0) + 1\n",
    "            \n",
    "            while all(char_count.get(c,0)>=K.count(c) for c in target_chars):\n",
    "                if  right-left+1 < min_length:\n",
    "                    min_length = right-left+1\n",
    "                    min_substring = N[left:right+1]\n",
    "\n",
    "                if  N[left] in target_chars: \n",
    "                    char_count[N[left]]-=1 \n",
    "                left-=1\n",
    "\n",
    "        right+=1\n",
    "        \n",
    "    return min_substring\n",
    "\n",
    "print(MinWindowSubstringMine([\"aaaebdaaddasedae\", \"aed\"]))   \n",
    "print(MinWindowSubstringMine([\"aabdccdbcacdaad\", \"aad\"]))  # Output: \"aabd\"\n",
    "print(MinWindowSubstringMine([\"aaaebdaaddasedae\", \"aed\"]))    # Output: \"dae\"\n"
   ]
  },
  {
   "cell_type": "code",
   "execution_count": null,
   "id": "b9a645a9",
   "metadata": {},
   "outputs": [],
   "source": []
  },
  {
   "cell_type": "code",
   "execution_count": null,
   "id": "6fc80335",
   "metadata": {},
   "outputs": [],
   "source": []
  },
  {
   "cell_type": "markdown",
   "id": "931ca6fa",
   "metadata": {},
   "source": [
    "my way of doing it "
   ]
  },
  {
   "cell_type": "code",
   "execution_count": null,
   "id": "24f9440c",
   "metadata": {},
   "outputs": [],
   "source": [
    " "
   ]
  },
  {
   "cell_type": "code",
   "execution_count": null,
   "id": "72291dda",
   "metadata": {},
   "outputs": [],
   "source": [
    " "
   ]
  },
  {
   "cell_type": "code",
   "execution_count": null,
   "id": "f9b0bf63",
   "metadata": {},
   "outputs": [],
   "source": []
  },
  {
   "cell_type": "code",
   "execution_count": null,
   "id": "e86b2749",
   "metadata": {},
   "outputs": [],
   "source": []
  }
 ],
 "metadata": {
  "kernelspec": {
   "display_name": "Python 3 (ipykernel)",
   "language": "python",
   "name": "python3"
  },
  "language_info": {
   "codemirror_mode": {
    "name": "ipython",
    "version": 3
   },
   "file_extension": ".py",
   "mimetype": "text/x-python",
   "name": "python",
   "nbconvert_exporter": "python",
   "pygments_lexer": "ipython3",
   "version": "3.11.0"
  }
 },
 "nbformat": 4,
 "nbformat_minor": 5
}

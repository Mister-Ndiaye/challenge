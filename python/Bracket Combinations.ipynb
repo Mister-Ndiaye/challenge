{
 "cells": [
  {
   "cell_type": "markdown",
   "id": "4eedc125",
   "metadata": {},
   "source": [
    "# Bracket Combinations"
   ]
  },
  {
   "cell_type": "code",
   "execution_count": null,
   "id": "150c4190",
   "metadata": {},
   "outputs": [],
   "source": [
    "Bracket Combinations\n",
    "Have the function BracketCombinations(num) read num which will be an integer greater than or equal to zero, \n",
    "and return the number of valid combinations that can be formed with num pairs of parentheses. \n",
    "For example, if the input is 3, then the possible combinations of 3 pairs of parenthesis, \n",
    "namely: ()()(), are ()()(), ()(()), (())(), ((())), and (()()).\n",
    "There are 5 total combinations when the input is 3, so your program should return 5."
   ]
  },
  {
   "cell_type": "code",
   "execution_count": null,
   "id": "14970de0",
   "metadata": {},
   "outputs": [],
   "source": []
  },
  {
   "cell_type": "code",
   "execution_count": null,
   "id": "bf6a9285",
   "metadata": {},
   "outputs": [],
   "source": [
    "Examples\n",
    "Input: 3\n",
    "Output: 5\n",
    "Input: 2\n",
    "Output: 2\n",
    "Tags\n",
    "combinatoricsGooglefree"
   ]
  },
  {
   "cell_type": "code",
   "execution_count": 89,
   "id": "99e2db2b",
   "metadata": {},
   "outputs": [],
   "source": [
    " def fibo(n):\n",
    "    F0,F1,Fn= 0,1,0\n",
    "    t=[0,1]\n",
    "    for i in range(2,n+1):\n",
    "        Fn = F1+F0\n",
    "        F0 =F1 \n",
    "        F1 = Fn\n",
    "        t.append(Fn)\n",
    "    return Fn"
   ]
  },
  {
   "cell_type": "code",
   "execution_count": 90,
   "id": "85b09602",
   "metadata": {},
   "outputs": [
    {
     "data": {
      "text/plain": [
       "21"
      ]
     },
     "execution_count": 90,
     "metadata": {},
     "output_type": "execute_result"
    }
   ],
   "source": [
    "def BracketCombinations(n):\n",
    "    if n in (0,1):\n",
    "        return n\n",
    "    if n==2:\n",
    "        return 2\n",
    "    return fibo(n+2)\n",
    "\n",
    "#print(BracketCombinations(input())\n",
    "BracketCombinations(6)"
   ]
  }
 ],
 "metadata": {
  "kernelspec": {
   "display_name": "Python 3 (ipykernel)",
   "language": "python",
   "name": "python3"
  },
  "language_info": {
   "codemirror_mode": {
    "name": "ipython",
    "version": 3
   },
   "file_extension": ".py",
   "mimetype": "text/x-python",
   "name": "python",
   "nbconvert_exporter": "python",
   "pygments_lexer": "ipython3",
   "version": "3.11.0"
  }
 },
 "nbformat": 4,
 "nbformat_minor": 5
}

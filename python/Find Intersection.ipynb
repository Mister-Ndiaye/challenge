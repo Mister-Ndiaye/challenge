{
 "cells": [
  {
   "cell_type": "code",
   "execution_count": null,
   "id": "8506b7bb",
   "metadata": {},
   "outputs": [],
   "source": [
    "Find Intersection\n",
    "Have the function FindIntersection(strArr) read the array of strings stored in strArr\n",
    "which will contain 2 elements: the first element will represent a list of\n",
    "comma-separated numbers sorted in ascending order, the second element\n",
    "will represent a second list of comma-separated numbers (also sorted). \n",
    "Your goal is to return a comma-separated string containing the numbers that occur \n",
    "in elements of strArr in sorted order. If there is no intersection,\n",
    "return the string false.\n",
    "Examples\n",
    "Input: [\"1, 3, 4, 7, 13\", \"1, 2, 4, 13, 15\"]\n",
    "\"1,4,13\""
   ]
  },
  {
   "cell_type": "code",
   "execution_count": 18,
   "id": "9b37ee7a",
   "metadata": {},
   "outputs": [],
   "source": [
    "def find_intersection(strArr):\n",
    "    \n",
    "    u1= [int(num) for num in  strArr[0].split(', ')]\n",
    "    u2= [int(num) for num in  strArr[1].split(', ')]\n",
    "    inters = set(u1).intersection(set(u2)) \n",
    "    inters =\",\".join( [str(i) for i in  sorted(list(inters))])\n",
    "    if(len(inters)>0):\n",
    "        return inters\n",
    "    return False"
   ]
  },
  {
   "cell_type": "code",
   "execution_count": 19,
   "id": "162edbca",
   "metadata": {},
   "outputs": [
    {
     "data": {
      "text/plain": [
       "False"
      ]
     },
     "execution_count": 19,
     "metadata": {},
     "output_type": "execute_result"
    }
   ],
   "source": [
    "a= [\"1, 3, 4, 7, 13\", \"1, 2, 4, 13, 15\"]\n",
    "a= [\"1, 3, 9, 10, 17, 18\", \"1, 4, 9, 10\"]\n",
    "a= [\"1, 2, 3, 4, 5\", \"6, 7, 8, 9, 10\"]\n",
    "find_intersection(a)"
   ]
  },
  {
   "cell_type": "code",
   "execution_count": 5,
   "id": "7d879791",
   "metadata": {},
   "outputs": [],
   "source": [
    "a= [\"1, 3, 4, 7, 13\", \"1, 2, 4, 13, 15\"]\n",
    "b= [\"1, 3, 9, 10, 17, 18\", \"1, 4, 9, 10\"]\n",
    "\n",
    "a= [\"1, 2, 3, 4, 5\", \"6, 7, 8, 9, 10\"]\n",
    "c=[\"1, 5, 6, 7, 10, 11, 12\", \"5, 6, 8, 11, 17\"]"
   ]
  },
  {
   "cell_type": "code",
   "execution_count": 22,
   "id": "f25be36d",
   "metadata": {},
   "outputs": [
    {
     "data": {
      "text/plain": [
       "'5,6,11'"
      ]
     },
     "execution_count": 22,
     "metadata": {},
     "output_type": "execute_result"
    }
   ],
   "source": [
    "def funct_mouha():\n",
    "    b=[\"1, 5, 6, 7, 10, 11, 12\", \"5, 6, 8, 11, 17\"]\n",
    "    result=[]\n",
    "    for i in b[0].split(', '):\n",
    "        if i in b[1].split(', '):\n",
    "            result.append(i)\n",
    "    if result=='':\n",
    "        return \"false\" \n",
    "    return \",\".join(result)\n",
    "funct_mouha()"
   ]
  },
  {
   "cell_type": "code",
   "execution_count": 26,
   "id": "393680bb",
   "metadata": {},
   "outputs": [
    {
     "data": {
      "text/plain": [
       "'5,6,11'"
      ]
     },
     "execution_count": 26,
     "metadata": {},
     "output_type": "execute_result"
    }
   ],
   "source": [
    "def funct_alassa():\n",
    "    b=[\"1, 5, 6, 7, 10, 11, 12\", \"5, 6, 8, 11, 17\"]\n",
    "           \n",
    "    result = [i   for i in  b[0].split(', ') if i in b[1].split(', ') ]\n",
    "    if len(result)==0:\n",
    "        return \"false\"\n",
    "    return \",\".join(result)\n",
    "funct_alassa()"
   ]
  },
  {
   "cell_type": "code",
   "execution_count": 13,
   "id": "49080158",
   "metadata": {},
   "outputs": [],
   "source": [
    "import timeit\n",
    "\n"
   ]
  },
  {
   "cell_type": "code",
   "execution_count": 76,
   "id": "b73d24ab",
   "metadata": {},
   "outputs": [
    {
     "name": "stdout",
     "output_type": "stream",
     "text": [
      "Execution Time Mouha: 0.001567 seconds\n",
      "Execution Time Alassa: 0.002118 seconds\n"
     ]
    }
   ],
   "source": [
    "execution_time_m = timeit.timeit(funct_mouha, number=1000)\n",
    "execution_time_a = timeit.timeit(funct_alassa, number=1000)\n",
    "\n",
    "# Print the execution time\n",
    "print(f\"Execution Time Mouha: {execution_time_m:.6f} seconds\")\n",
    "print(f\"Execution Time Alassa: {execution_time_a:.6f} seconds\")\n"
   ]
  },
  {
   "cell_type": "code",
   "execution_count": null,
   "id": "1afd0d37",
   "metadata": {},
   "outputs": [],
   "source": [
    "b = [i for i in range(5000)]\n",
    "for i in "
   ]
  },
  {
   "cell_type": "code",
   "execution_count": null,
   "id": "93b41b6a",
   "metadata": {},
   "outputs": [],
   "source": []
  },
  {
   "cell_type": "code",
   "execution_count": null,
   "id": "b07cc4d5",
   "metadata": {},
   "outputs": [],
   "source": []
  },
  {
   "cell_type": "code",
   "execution_count": null,
   "id": "27d5bbcf",
   "metadata": {},
   "outputs": [],
   "source": []
  },
  {
   "cell_type": "code",
   "execution_count": null,
   "id": "cb9ba8f0",
   "metadata": {},
   "outputs": [],
   "source": []
  }
 ],
 "metadata": {
  "kernelspec": {
   "display_name": "Python 3 (ipykernel)",
   "language": "python",
   "name": "python3"
  },
  "language_info": {
   "codemirror_mode": {
    "name": "ipython",
    "version": 3
   },
   "file_extension": ".py",
   "mimetype": "text/x-python",
   "name": "python",
   "nbconvert_exporter": "python",
   "pygments_lexer": "ipython3",
   "version": "3.11.0"
  }
 },
 "nbformat": 4,
 "nbformat_minor": 5
}

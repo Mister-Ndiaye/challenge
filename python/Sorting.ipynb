{
 "cells": [
  {
   "cell_type": "markdown",
   "id": "227e60ba",
   "metadata": {},
   "source": [
    "# Sorting"
   ]
  },
  {
   "cell_type": "markdown",
   "id": "1b5c1d64",
   "metadata": {},
   "source": [
    "Sorting Selection Trie"
   ]
  },
  {
   "cell_type": "markdown",
   "id": "1bc0637a",
   "metadata": {},
   "source": [
    "Example 1"
   ]
  },
  {
   "cell_type": "code",
   "execution_count": 50,
   "id": "0ca1f385",
   "metadata": {},
   "outputs": [],
   "source": [
    "unsorted_list = [3,48,44,30,120,100]"
   ]
  },
  {
   "cell_type": "code",
   "execution_count": 7,
   "id": "78fced38",
   "metadata": {},
   "outputs": [
    {
     "data": {
      "text/plain": [
       "[3, 30, 44, 48, 100, 120]"
      ]
     },
     "execution_count": 7,
     "metadata": {},
     "output_type": "execute_result"
    }
   ],
   "source": [
    "def selection_sorting_1(unsorted_list):\n",
    "\n",
    "    sorted_list = [] \n",
    "    #minimum=unsorted_list[0]\n",
    "    for i in range(len(unsorted_list)):\n",
    "        minimum = min(unsorted_list)\n",
    "        sorted_list.append(unsorted_list.pop(unsorted_list.index(minimum)))\n",
    "\n",
    "    return sorted_list\n",
    "selection_sorting_1(unsorted_list)"
   ]
  },
  {
   "cell_type": "markdown",
   "id": "d7ca9358",
   "metadata": {},
   "source": [
    "Example 2"
   ]
  },
  {
   "cell_type": "code",
   "execution_count": 5,
   "id": "92250881",
   "metadata": {},
   "outputs": [
    {
     "data": {
      "text/plain": [
       "[3, 30, 44, 48, 100, 120]"
      ]
     },
     "execution_count": 5,
     "metadata": {},
     "output_type": "execute_result"
    }
   ],
   "source": [
    "unsorted_list = [3,48,44,30,120,100]\n",
    "def selection_sorting_2(unsorted_list):\n",
    "    for i in range(len(unsorted_list)-1):\n",
    "        min_index = i \n",
    "        for j in range(i,len(unsorted_list)):\n",
    "            if unsorted_list[min_index]>unsorted_list[j]:\n",
    "                min_index = j\n",
    "        unsorted_list[i],unsorted_list[min_index]=unsorted_list[min_index], unsorted_list[i]\n",
    "    return unsorted_list\n",
    "selection_sorting_2(unsorted_list)"
   ]
  },
  {
   "cell_type": "markdown",
   "id": "574bb3f7",
   "metadata": {},
   "source": [
    "Bubble Sorting"
   ]
  },
  {
   "cell_type": "code",
   "execution_count": 3,
   "id": "1484e243",
   "metadata": {},
   "outputs": [
    {
     "data": {
      "text/plain": [
       "[3, 30, 44, 48, 100, 120]"
      ]
     },
     "execution_count": 3,
     "metadata": {},
     "output_type": "execute_result"
    }
   ],
   "source": [
    "\n",
    "unsorted_list = [3,48,44,30,120,100]\n",
    "\n",
    "\n",
    "def bubble_sorting(unsorted_list):\n",
    "    flag =1\n",
    "    while(flag):\n",
    "        flag=0\n",
    "        for i in range(len(unsorted_list)-1):\n",
    "            if(unsorted_list[i]>unsorted_list[i+1]):\n",
    "                unsorted_list[i],unsorted_list[i+1] = unsorted_list[i+1] , unsorted_list[i]\n",
    "                flag =1\n",
    "    return unsorted_list\n",
    "\n",
    "bubble_sorting(unsorted_list)"
   ]
  },
  {
   "cell_type": "markdown",
   "id": "79169f7d",
   "metadata": {},
   "source": [
    "Insertion Sort"
   ]
  },
  {
   "cell_type": "code",
   "execution_count": null,
   "id": "d51c9662",
   "metadata": {},
   "outputs": [],
   "source": [
    "def insertion_sort(unsorted_list):\n",
    "    for i in range(len(unsorted_list)):\n",
    "        item = unsorted_list[i]\n",
    "        for j in range(i):\n",
    "            if()\n",
    "            "
   ]
  },
  {
   "cell_type": "code",
   "execution_count": 12,
   "id": "3a3bedc1",
   "metadata": {},
   "outputs": [
    {
     "name": "stdout",
     "output_type": "stream",
     "text": [
      "3\n"
     ]
    }
   ],
   "source": [
    "for i in range(1):\n",
    "    print(3)"
   ]
  }
 ],
 "metadata": {
  "kernelspec": {
   "display_name": "Python 3 (ipykernel)",
   "language": "python",
   "name": "python3"
  },
  "language_info": {
   "codemirror_mode": {
    "name": "ipython",
    "version": 3
   },
   "file_extension": ".py",
   "mimetype": "text/x-python",
   "name": "python",
   "nbconvert_exporter": "python",
   "pygments_lexer": "ipython3",
   "version": "3.11.0"
  }
 },
 "nbformat": 4,
 "nbformat_minor": 5
}

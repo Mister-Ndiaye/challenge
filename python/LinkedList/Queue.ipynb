{
 "cells": [
  {
   "cell_type": "code",
   "execution_count": null,
   "id": "64e83009",
   "metadata": {},
   "outputs": [],
   "source": [
    "class Queue:\n",
    "    def __init__(self):\n",
    "        self.elements=[]\n",
    "        self.last=0\n",
    "    def add(self,elemt):\n",
    "        self.last+=1\n",
    "        self.elements.append(elemt)\n",
    "    def show(self):\n",
    "        return self.elements\n",
    "    def size(self):\n",
    "        return self.last\n",
    "    def getLast(self):\n",
    "        return self.elements[self.last-1]\n",
    "    def getFirst(self):\n",
    "        return self.elements[0]\n",
    "    def pop(self):\n",
    "        elmt = self.elements.pop()\n",
    "        self.last-=1\n",
    "        return elmt"
   ]
  }
 ],
 "metadata": {
  "kernelspec": {
   "display_name": "Python 3 (ipykernel)",
   "language": "python",
   "name": "python3"
  },
  "language_info": {
   "codemirror_mode": {
    "name": "ipython",
    "version": 3
   },
   "file_extension": ".py",
   "mimetype": "text/x-python",
   "name": "python",
   "nbconvert_exporter": "python",
   "pygments_lexer": "ipython3",
   "version": "3.11.0"
  }
 },
 "nbformat": 4,
 "nbformat_minor": 5
}

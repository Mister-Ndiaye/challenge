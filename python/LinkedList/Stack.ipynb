{
 "cells": [
  {
   "cell_type": "code",
   "execution_count": 27,
   "id": "ac9df65a",
   "metadata": {},
   "outputs": [],
   "source": [
    "class Stack:\n",
    "    def __init__(self):\n",
    "        self.elements=[]\n",
    "        self.last=0\n",
    "    def add(self,elemt):\n",
    "        self.last+=1\n",
    "        self.elements.append(elemt)\n",
    "    def show(self):\n",
    "        return self.elements\n",
    "    def size(self):\n",
    "        return self.last\n",
    "    def getLast(self):\n",
    "        return self.elements[self.last-1]\n",
    "    def getFirst(self):\n",
    "        return self.elements[0]\n",
    "    def pop(self):\n",
    "        elmt = self.elements.pop()\n",
    "        self.last-=1\n",
    "        return elmt"
   ]
  },
  {
   "cell_type": "code",
   "execution_count": 33,
   "id": "a7397370",
   "metadata": {},
   "outputs": [
    {
     "data": {
      "text/plain": [
       "[1, 1, 1]"
      ]
     },
     "execution_count": 33,
     "metadata": {},
     "output_type": "execute_result"
    }
   ],
   "source": [
    "a= Stack()\n",
    "a.add(1)\n",
    "a.add(1)\n",
    "a.add(1)\n",
    "a.add(1000)\n",
    "a.size()\n",
    "a.getLast()\n",
    "a.pop()\n",
    "a.show()\n",
    "#a.show()"
   ]
  },
  {
   "cell_type": "markdown",
   "id": "803726e3",
   "metadata": {},
   "source": [
    "# Exercices"
   ]
  },
  {
   "cell_type": "code",
   "execution_count": null,
   "id": "65aa0e99",
   "metadata": {},
   "outputs": [],
   "source": [
    "Stack Exercises:\n",
    "\n",
    "Balanced Parentheses:\n",
    "Write a program to check if a given expression with parentheses (and possibly other characters) \n",
    "is properly balanced. For example, \"{[()]}\"\" is balanced, but \"{[}\" is not.\n",
    "                                                                "
   ]
  },
  {
   "cell_type": "code",
   "execution_count": 97,
   "id": "f12bd940",
   "metadata": {},
   "outputs": [],
   "source": [
    "a = \"{[()]}\"\n",
    "b = \"[(])\""
   ]
  },
  {
   "cell_type": "code",
   "execution_count": 107,
   "id": "0f599248",
   "metadata": {},
   "outputs": [
    {
     "data": {
      "text/plain": [
       "False"
      ]
     },
     "execution_count": 107,
     "metadata": {},
     "output_type": "execute_result"
    }
   ],
   "source": [
    "def isbalanced(expression):\n",
    "    stack=[]\n",
    "    openBrackets= '([{'\n",
    "    closeBrackets= ')]}'\n",
    "    for i in expression:\n",
    "        if i in openBrackets :\n",
    "            stack.append(i)\n",
    "        else : \n",
    "            \n",
    "            if not stack:\n",
    "                return False\n",
    "            if   stack[-1]==openBrackets[closeBrackets.index(i)] :\n",
    "                stack.pop()\n",
    "            else:\n",
    "                return False\n",
    "    return len(stack)==0\n",
    "\n",
    "isbalanced(b)        "
   ]
  },
  {
   "cell_type": "code",
   "execution_count": null,
   "id": "3d4d13a0",
   "metadata": {},
   "outputs": [],
   "source": [
    " "
   ]
  },
  {
   "cell_type": "code",
   "execution_count": null,
   "id": "5a5149ab",
   "metadata": {},
   "outputs": [],
   "source": [
    " "
   ]
  },
  {
   "cell_type": "code",
   "execution_count": null,
   "id": "bba7aec7",
   "metadata": {},
   "outputs": [],
   "source": [
    " "
   ]
  },
  {
   "cell_type": "markdown",
   "id": "6c86744a",
   "metadata": {},
   "source": [
    "Stack Exercises:\n"
   ]
  },
  {
   "cell_type": "code",
   "execution_count": null,
   "id": "2f6b0784",
   "metadata": {},
   "outputs": [],
   "source": [
    "Stack Exercises:\n",
    "\n",
    "Balanced Parentheses:\n",
    "Write a program to check if a given expression with parentheses (and possibly other characters) is\n",
    "properly balanced. For example, \"{[()]}\"\" is balanced, but \"{[}\" is not.\n",
    "\n",
    "Infix to Postfix Conversion:\n",
    "Implement a program that converts an infix expression to postfix notation using a stack.\n",
    "This exercise involves handling operator precedence and associativity.\n",
    "\n",
    "Evaluate Postfix Expression:\n",
    "Given a postfix expression (in Reverse Polish Notation), write a program to evaluate it using a stack. \n",
    "The expression can contain arithmetic operators and operands.\n",
    "\n"
   ]
  },
  {
   "cell_type": "markdown",
   "id": "c82d60a7",
   "metadata": {},
   "source": [
    "Queue Exercises:\n"
   ]
  },
  {
   "cell_type": "code",
   "execution_count": null,
   "id": "550a13c4",
   "metadata": {},
   "outputs": [],
   "source": [
    "Queue Exercises:\n",
    "\n",
    "Implement a Circular Queue:\n",
    "Create a circular queue using an array. Implement functions for enqueue, dequeue, and display operations. This exercise helps you understand circular data structures and queue operations.\n",
    "\n",
    "Print Binary Tree Level by Level:\n",
    "Implement a program to print a binary tree level by level using a queue. Start from the root and print each level's nodes on separate lines.\n",
    "\n",
    "Hot Potato Game:\n",
    "Simulate the \"Hot Potato\" game using a queue. In this game, children pass an item (e.g., a ball) around while music plays. When the music stops, the child holding the item is out. Continue until only one child remains."
   ]
  }
 ],
 "metadata": {
  "kernelspec": {
   "display_name": "Python 3 (ipykernel)",
   "language": "python",
   "name": "python3"
  },
  "language_info": {
   "codemirror_mode": {
    "name": "ipython",
    "version": 3
   },
   "file_extension": ".py",
   "mimetype": "text/x-python",
   "name": "python",
   "nbconvert_exporter": "python",
   "pygments_lexer": "ipython3",
   "version": "3.11.0"
  }
 },
 "nbformat": 4,
 "nbformat_minor": 5
}

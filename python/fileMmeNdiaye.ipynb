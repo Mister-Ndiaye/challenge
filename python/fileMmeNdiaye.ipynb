{
 "cells": [
  {
   "cell_type": "code",
   "execution_count": 4,
   "id": "981068f5",
   "metadata": {},
   "outputs": [
    {
     "name": "stdout",
     "output_type": "stream",
     "text": [
      "le nbre n'est pas  dans la liste\n"
     ]
    }
   ],
   "source": [
    "liste =[1,2,4,7,8,99,10]\n",
    "nbre_rechercher =102\n",
    "\n",
    "for i in liste:\n",
    "    if i==nbre_rechercher:\n",
    "        print(\"le nbre est dans la liste\")\n",
    "        break\n",
    "else:\n",
    "    print(\"le nbre n'est pas  dans la liste\")"
   ]
  },
  {
   "cell_type": "code",
   "execution_count": 8,
   "id": "0439bb3a",
   "metadata": {},
   "outputs": [
    {
     "name": "stdout",
     "output_type": "stream",
     "text": [
      "le nbre est dans la liste\n"
     ]
    }
   ],
   "source": [
    "liste =[1,2,4,7,8,99,10]\n",
    "nbre_rechercher =10\n",
    "counter=0\n",
    "for i in liste:\n",
    "    if i==nbre_rechercher:\n",
    "        print(\"le nbre est dans la liste\")\n",
    "        break\n",
    "    else:\n",
    "        counter+=1\n",
    "        if counter==len(liste):\n",
    "            print(\"le nbre n'est pas  dans la liste\")"
   ]
  },
  {
   "cell_type": "code",
   "execution_count": 9,
   "id": "21f639f9",
   "metadata": {},
   "outputs": [
    {
     "name": "stdout",
     "output_type": "stream",
     "text": [
      "le nbre est dans la liste\n"
     ]
    }
   ],
   "source": [
    "liste =[1,2,4,7,8,99,10]\n",
    "nbre_rechercher =10\n",
    "is_in_liste=False\n",
    "\n",
    "for i in liste:\n",
    "    if i==nbre_rechercher:\n",
    "        is_in_liste =True\n",
    "        break\n",
    "        \n",
    "if is_in_liste:\n",
    "    print(\"le nbre est dans la liste\")\n",
    "else:\n",
    "    print(\"le nbre n'est pas  dans la liste\")"
   ]
  },
  {
   "cell_type": "code",
   "execution_count": 16,
   "id": "a36b7f17",
   "metadata": {},
   "outputs": [
    {
     "data": {
      "text/plain": [
       "False"
      ]
     },
     "execution_count": 16,
     "metadata": {},
     "output_type": "execute_result"
    }
   ],
   "source": [
    "a = \"matam c\"\n",
    "b = list(a)\n",
    "b.reverse()\n",
    "''.join(b)==a"
   ]
  },
  {
   "cell_type": "code",
   "execution_count": 36,
   "id": "0fc52673",
   "metadata": {},
   "outputs": [
    {
     "name": "stdout",
     "output_type": "stream",
     "text": [
      "not palindrome\n"
     ]
    }
   ],
   "source": [
    "a = \"RADAR\"\n",
    "isPalindrome =True\n",
    "\n",
    "for i in range(len(a)):\n",
    "    if a[i]!=a[len(a)-1-i]:\n",
    "        isPalindrome=False\n",
    "        break\n",
    "if isPalindrome:\n",
    "    print(\"palindrome\")\n",
    "else:\n",
    "    print(\"not palindrome\")\n",
    "    "
   ]
  },
  {
   "cell_type": "code",
   "execution_count": 66,
   "id": "0a1453bc",
   "metadata": {},
   "outputs": [
    {
     "name": "stdout",
     "output_type": "stream",
     "text": [
      "*\n",
      "**\n",
      "***\n",
      "****\n",
      "*****\n",
      "1\n",
      "12\n",
      "123\n",
      "1234\n",
      "12345\n",
      "A\n",
      "BB\n",
      "CCC\n",
      "DDDD\n",
      "EEEEE\n"
     ]
    }
   ],
   "source": [
    "a=''\n",
    "b=''\n",
    "alphabet= [\"A\",\"B\",\"C\",\"D\",\"E\"]\n",
    "letter=''\n",
    "for i in range(1,6):\n",
    "    for j in range(i):\n",
    "        a+='*'\n",
    "    print(a)\n",
    "    a=''\n",
    "    \n",
    "for i in range(1,6):\n",
    "    for j in range(1,i+1):\n",
    "        b+=str(j)\n",
    "    print(b)\n",
    "    b=''\n",
    "        \n",
    "for i in range(1,len(alphabet)+1):\n",
    "    for j in range(1,i+1):\n",
    "        letter+=alphabet[i-1]\n",
    "    print(letter)\n",
    "    letter=''\n",
    "                \n",
    "    "
   ]
  },
  {
   "cell_type": "code",
   "execution_count": 39,
   "id": "8bff6a6c",
   "metadata": {},
   "outputs": [
    {
     "name": "stdout",
     "output_type": "stream",
     "text": [
      "1\n",
      "12\n",
      "123\n",
      "1234\n",
      "12345\n"
     ]
    }
   ],
   "source": [
    "digit=\"\"\n",
    "for i in range(1,6):\n",
    "    digit+=str(i)\n",
    "    print(digit)\n",
    "    "
   ]
  },
  {
   "cell_type": "code",
   "execution_count": 45,
   "id": "37819c52",
   "metadata": {},
   "outputs": [
    {
     "name": "stdout",
     "output_type": "stream",
     "text": [
      "A\n",
      "BB\n",
      "CCC\n",
      "DDDD\n",
      "EEEEE\n"
     ]
    }
   ],
   "source": [
    "alphabet= [\"A\",\"B\",\"C\",\"D\",\"E\"]\n",
    "for i in range(1,len(alphabet)+1):\n",
    "    print(i*alphabet[i-1])\n",
    "    "
   ]
  },
  {
   "cell_type": "code",
   "execution_count": 41,
   "id": "8aa13c48",
   "metadata": {},
   "outputs": [
    {
     "data": {
      "text/plain": [
       "'aa'"
      ]
     },
     "execution_count": 41,
     "metadata": {},
     "output_type": "execute_result"
    }
   ],
   "source": []
  }
 ],
 "metadata": {
  "kernelspec": {
   "display_name": "Python 3 (ipykernel)",
   "language": "python",
   "name": "python3"
  },
  "language_info": {
   "codemirror_mode": {
    "name": "ipython",
    "version": 3
   },
   "file_extension": ".py",
   "mimetype": "text/x-python",
   "name": "python",
   "nbconvert_exporter": "python",
   "pygments_lexer": "ipython3",
   "version": "3.11.0"
  }
 },
 "nbformat": 4,
 "nbformat_minor": 5
}

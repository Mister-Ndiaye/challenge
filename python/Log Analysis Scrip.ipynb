{
 "cells": [
  {
   "cell_type": "markdown",
   "id": "8c1ff14d",
   "metadata": {},
   "source": [
    "file.txt\n",
    "2023-08-01 10:15:22 - INFO - Application started.\n",
    "2023-08-01 10:17:35 - WARNING - Disk space is running low on /dev/sda1.\n",
    "2023-08-01 10:18:40 - ERROR - Connection to database server failed.\n",
    "2023-08-01 10:20:02 - INFO - User logged in: jsmith\n",
    "2023-08-01 10:21:16 - ERROR - Unable to process request: Invalid input data.\n",
    "2023-08-01 10:25:04 - INFO - Application stopped.\n",
    "2023-08-01 10:30:12 - ERROR - Service not responding. Restarting...\n",
    "2023-08-01 10:33:58 - WARNING - CPU temperature above recommended threshold.\n",
    "2023-08-01 10:35:22 - INFO - User logged in: mjohnson\n",
    "2023-08-01 10:40:50 - ERROR - Unable to establish a connection to remote server.\n",
    "2023-08-01 10:42:05 - INFO - Application started.\n",
    "2023-08-01 10:45:11 - WARNING - Unusual network activity detected.\n",
    "2023-08-01 10:50:30 - ERROR - Authentication failed for user: asmith\n",
    "2023-08-01 10:52:44 - CRITICAL - System crash detected. Emergency restart required.\n"
   ]
  },
  {
   "cell_type": "code",
   "execution_count": 1,
   "id": "27acb010",
   "metadata": {},
   "outputs": [],
   "source": [
    "# ANSI escape code for text color\n",
    "# Note: The escape code starts with '\\033[' and ends with 'm'\n",
    "# The color codes are: 30-37 for foreground text color and 40-47 for background color.\n",
    "\n",
    "# Text color codes\n",
    "BLACK = '\\033[30m'\n",
    "RED = '\\033[31m'\n",
    "GREEN = '\\033[32m'\n",
    "YELLOW = '\\033[33m'\n",
    "BLUE = '\\033[34m'\n",
    "MAGENTA = '\\033[35m'\n",
    "CYAN = '\\033[36m'\n",
    "WHITE = '\\033[37m'\n",
    "\n",
    "# Background color codes\n",
    "BLACK_BG = '\\033[40m'\n",
    "RED_BG = '\\033[41m'\n",
    "GREEN_BG = '\\033[42m'\n",
    "YELLOW_BG = '\\033[43m'\n",
    "BLUE_BG = '\\033[44m'\n",
    "MAGENTA_BG = '\\033[45m'\n",
    "CYAN_BG = '\\033[46m'\n",
    "WHITE_BG = '\\033[47m'\n",
    "\n",
    "# Text attributes\n",
    "BOLD = '\\033[1m'\n",
    "UNDERLINE = '\\033[4m'\n",
    "RESET = '\\033[0m'  # Reset all text attributes and colors"
   ]
  },
  {
   "cell_type": "code",
   "execution_count": 2,
   "id": "80230426",
   "metadata": {},
   "outputs": [
    {
     "name": "stdout",
     "output_type": "stream",
     "text": [
      "[0] \u001b[31mline-4  :\u001b[0m 2023-08-01 10:18:40 - ERROR - Connection to database server failed.\n",
      "\n",
      "[1] \u001b[31mline-6  :\u001b[0m 2023-08-01 10:21:16 - ERROR - Unable to process request: Invalid input data.\n",
      "\n",
      "[2] \u001b[31mline-8  :\u001b[0m 2023-08-01 10:30:12 - ERROR - Service not responding. Restarting...\n",
      "\n",
      "[3] \u001b[31mline-11  :\u001b[0m 2023-08-01 10:40:50 - ERROR - Unable to establish a connection to remote server.\n",
      "\n",
      "[4] \u001b[31mline-14  :\u001b[0m 2023-08-01 10:50:30 - ERROR - Authentication failed for user: asmith\n",
      "\n",
      "[0] \u001b[31mline-18  :\u001b[0m 2023-08-01 10:17:35 - WARNING - Disk space is running low on /dev/sda1.\n",
      "\n",
      "[1] \u001b[31mline-24  :\u001b[0m 2023-08-01 10:33:58 - WARNING - CPU temperature above recommended threshold.\n",
      "\n",
      "[2] \u001b[31mline-28  :\u001b[0m 2023-08-01 10:45:11 - WARNING - Unusual network activity detected.\n",
      "\n"
     ]
    }
   ],
   "source": [
    "def log_analysis(filePath):\n",
    "    with open(filePath) as file:\n",
    "        i=0\n",
    "        numberLine = 0\n",
    "        RESET = '\\033[0m' \n",
    "        for line in file:\n",
    "            numberLine +=1\n",
    "            if \"ERROR\" in line :\n",
    "                print(f\"[{i}] {RED}line-{numberLine}  :{RESET} {line}\")\n",
    "                i+=1\n",
    "    with open(filePath) as file:\n",
    "        i=0\n",
    "        for line in file:\n",
    "            numberLine +=1\n",
    "            if \"WARNING\" in line:\n",
    "                print(f\"[{i}] {RED}line-{numberLine}  :{RESET} {line}\")\n",
    "                i+=1\n",
    "        file.close()\n",
    "log_analysis('file.txt')"
   ]
  },
  {
   "cell_type": "code",
   "execution_count": 13,
   "id": "6e7376e6",
   "metadata": {},
   "outputs": [
    {
     "name": "stdout",
     "output_type": "stream",
     "text": [
      "Resultat : \n",
      "WARNING :  3\n",
      "CRITICAL :  0\n"
     ]
    }
   ],
   "source": [
    "def get_statistic(file):\n",
    "    with open(file) as file_log :\n",
    "        print('Resultat : ')\n",
    "        #print('Erreur : ',str(file_log.readlines()).count(\"ERROR\"))\n",
    "        print('WARNING : ',str(file_log.readlines()).count(\"WARNING\"))\n",
    "        print('CRITICAL : ',str(file_log.readlines()).count(\"CRITICAL\"))\n",
    "\n",
    "get_statistic('file.txt')"
   ]
  },
  {
   "cell_type": "code",
   "execution_count": 3,
   "id": "ca846e45",
   "metadata": {},
   "outputs": [
    {
     "data": {
      "text/plain": [
       "3"
      ]
     },
     "execution_count": 3,
     "metadata": {},
     "output_type": "execute_result"
    }
   ],
   "source": [
    "\"alassane\".count(\"a\")"
   ]
  },
  {
   "cell_type": "markdown",
   "id": "e3f51634",
   "metadata": {},
   "source": [
    "# CAMUNDA"
   ]
  },
  {
   "cell_type": "code",
   "execution_count": null,
   "id": "f3c3c7b5",
   "metadata": {},
   "outputs": [],
   "source": []
  },
  {
   "cell_type": "code",
   "execution_count": null,
   "id": "ca29641b",
   "metadata": {},
   "outputs": [],
   "source": []
  },
  {
   "cell_type": "code",
   "execution_count": null,
   "id": "3507ddd8",
   "metadata": {},
   "outputs": [],
   "source": []
  },
  {
   "cell_type": "code",
   "execution_count": null,
   "id": "b95b0fed",
   "metadata": {},
   "outputs": [],
   "source": [
    " "
   ]
  },
  {
   "cell_type": "code",
   "execution_count": null,
   "id": "d2c4c14a",
   "metadata": {},
   "outputs": [],
   "source": []
  },
  {
   "cell_type": "code",
   "execution_count": null,
   "id": "76c3776a",
   "metadata": {},
   "outputs": [],
   "source": []
  },
  {
   "cell_type": "code",
   "execution_count": null,
   "id": "e160bd05",
   "metadata": {},
   "outputs": [],
   "source": []
  },
  {
   "cell_type": "code",
   "execution_count": null,
   "id": "f2d64daf",
   "metadata": {},
   "outputs": [],
   "source": []
  },
  {
   "cell_type": "code",
   "execution_count": null,
   "id": "d1c87487",
   "metadata": {},
   "outputs": [],
   "source": []
  },
  {
   "cell_type": "code",
   "execution_count": null,
   "id": "6389570b",
   "metadata": {},
   "outputs": [],
   "source": []
  },
  {
   "cell_type": "code",
   "execution_count": null,
   "id": "2c3156c8",
   "metadata": {},
   "outputs": [],
   "source": []
  },
  {
   "cell_type": "markdown",
   "id": "fbcd39d8",
   "metadata": {},
   "source": [
    "# Analyse "
   ]
  },
  {
   "cell_type": "code",
   "execution_count": null,
   "id": "dd2bbc6d",
   "metadata": {},
   "outputs": [],
   "source": []
  },
  {
   "cell_type": "code",
   "execution_count": null,
   "id": "66b63dc4",
   "metadata": {},
   "outputs": [],
   "source": []
  },
  {
   "cell_type": "code",
   "execution_count": null,
   "id": "f9f84e92",
   "metadata": {},
   "outputs": [],
   "source": []
  },
  {
   "cell_type": "code",
   "execution_count": null,
   "id": "7313beb1",
   "metadata": {},
   "outputs": [],
   "source": []
  },
  {
   "cell_type": "code",
   "execution_count": 12,
   "id": "f815a106",
   "metadata": {},
   "outputs": [
    {
     "data": {
      "text/plain": [
       "False"
      ]
     },
     "execution_count": 12,
     "metadata": {},
     "output_type": "execute_result"
    }
   ],
   "source": [
    "\"ERROR\" in \"2023-08-01 10:52:44 - CRITICAL - System crash detected. Emergency restart required.\""
   ]
  },
  {
   "cell_type": "code",
   "execution_count": null,
   "id": "bacccdbc",
   "metadata": {},
   "outputs": [],
   "source": []
  },
  {
   "cell_type": "code",
   "execution_count": null,
   "id": "83053899",
   "metadata": {},
   "outputs": [],
   "source": []
  },
  {
   "cell_type": "code",
   "execution_count": null,
   "id": "46821328",
   "metadata": {},
   "outputs": [],
   "source": []
  }
 ],
 "metadata": {
  "kernelspec": {
   "display_name": "Python 3 (ipykernel)",
   "language": "python",
   "name": "python3"
  },
  "language_info": {
   "codemirror_mode": {
    "name": "ipython",
    "version": 3
   },
   "file_extension": ".py",
   "mimetype": "text/x-python",
   "name": "python",
   "nbconvert_exporter": "python",
   "pygments_lexer": "ipython3",
   "version": "3.11.0"
  }
 },
 "nbformat": 4,
 "nbformat_minor": 5
}

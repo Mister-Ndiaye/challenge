{
 "cells": [
  {
   "cell_type": "code",
   "execution_count": null,
   "id": "76bb3dfe",
   "metadata": {},
   "outputs": [],
   "source": [
    "arr = [0 ,-2,7,2,4-6]\n",
    "sortes_arr = []"
   ]
  },
  {
   "cell_type": "code",
   "execution_count": null,
   "id": "52708f9b",
   "metadata": {},
   "outputs": [],
   "source": [
    "def zero_sum_double(arr , target):\n",
    "    len_arr = len(arr)\n",
    "    for i in range(arr):\n",
    "        l=i\n",
    "        r= n-i\n",
    "        m = l+r//2\n",
    "        if arr[m]<\n",
    "        \n",
    "        "
   ]
  },
  {
   "cell_type": "code",
   "execution_count": null,
   "id": "ac8537b9",
   "metadata": {},
   "outputs": [],
   "source": []
  },
  {
   "cell_type": "code",
   "execution_count": null,
   "id": "b44ac7ef",
   "metadata": {},
   "outputs": [],
   "source": []
  }
 ],
 "metadata": {
  "kernelspec": {
   "display_name": "Python 3 (ipykernel)",
   "language": "python",
   "name": "python3"
  },
  "language_info": {
   "codemirror_mode": {
    "name": "ipython",
    "version": 3
   },
   "file_extension": ".py",
   "mimetype": "text/x-python",
   "name": "python",
   "nbconvert_exporter": "python",
   "pygments_lexer": "ipython3",
   "version": "3.11.0"
  }
 },
 "nbformat": 4,
 "nbformat_minor": 5
}

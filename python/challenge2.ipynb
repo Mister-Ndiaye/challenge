{
 "cells": [
  {
   "cell_type": "code",
   "execution_count": 9,
   "id": "fa6eb0a7",
   "metadata": {},
   "outputs": [],
   "source": [
    "class Stack: \n",
    "    \n",
    "    def __init__(self,size):\n",
    "        self.stack = []\n",
    "        self.max_size = size\n",
    "        \n",
    "    def append(self,element):\n",
    "        self.stack.append(element)\n",
    "        if len(self.stack)> self.max_size:\n",
    "            self.stack.pop(0)\n",
    "            \n",
    "    def pop(self):\n",
    "        return self.stack.pop(0)\n",
    "    \n",
    "    def lastOne(self):\n",
    "        if not self.is_empty() :\n",
    "            return self.stack[-1]\n",
    "    def is_empty(self):\n",
    "        return len(self.stack)==0\n",
    "    \n",
    "    def print(self):\n",
    "        return self.stack\n",
    "        "
   ]
  },
  {
   "cell_type": "code",
   "execution_count": 12,
   "id": "b3fd26fc",
   "metadata": {},
   "outputs": [
    {
     "data": {
      "text/plain": [
       "['C', 'E', 'D', 'S', 'A']"
      ]
     },
     "execution_count": 12,
     "metadata": {},
     "output_type": "execute_result"
    }
   ],
   "source": [
    "stk = Stack(5)\n",
    "stk.append(\"A\")\n",
    "stk.append(\"B\")\n",
    "stk.append(\"C\")\n",
    "stk.append(\"E\")\n",
    "stk.append(\"D\")\n",
    "stk.append(\"S\")\n",
    "stk.append(\"A\")\n",
    "\n",
    " \n",
    "stk.print()"
   ]
  },
  {
   "cell_type": "code",
   "execution_count": 26,
   "id": "de1ac387",
   "metadata": {},
   "outputs": [],
   "source": [
    "def shift_list_elements(lst, positions):\n",
    "    length = len(lst)\n",
    "    shift_amount = positions % length\n",
    "    shifted_list = lst[-shift_amount:] + lst[:-shift_amount]\n",
    "    return shifted_list"
   ]
  },
  {
   "cell_type": "code",
   "execution_count": 24,
   "id": "4ef72f9b",
   "metadata": {},
   "outputs": [
    {
     "name": "stdout",
     "output_type": "stream",
     "text": [
      "Original List: [1, 2, 3, 4, 5, 6, 7, 8, 9, 10]\n",
      "Shifted by 1: [10, 1, 2, 3, 4, 5, 6, 7, 8, 9]\n",
      "Shifted by 2: [9, 10, 1, 2, 3, 4, 5, 6, 7, 8]\n"
     ]
    }
   ],
   "source": [
    "# Example usage\n",
    "\n",
    "my_list = [1, 2, 3, 4, 5, 6, 7, 8, 9, 10]\n",
    "shifted_one = shift_list_elements(my_list, 1)\n",
    "shifted_two = shift_list_elements(my_list, 2)\n",
    "shifted_three = shift_list_elements(my_list, 3)\n",
    "\n",
    "print(\"Original List:\", my_list)\n",
    "print(\"Shifted by 1:\", shifted_one)\n",
    "print(\"Shifted by 2:\", shifted_two)"
   ]
  },
  {
   "cell_type": "code",
   "execution_count": 43,
   "id": "c40e90be",
   "metadata": {},
   "outputs": [
    {
     "data": {
      "text/plain": [
       "['C', 'B', 'A']"
      ]
     },
     "execution_count": 43,
     "metadata": {},
     "output_type": "execute_result"
    }
   ],
   "source": [
    "a= [\"A\",\"B\",\"C\"]\n",
    "b = a[::-1]\n",
    "b"
   ]
  }
 ],
 "metadata": {
  "kernelspec": {
   "display_name": "Python 3 (ipykernel)",
   "language": "python",
   "name": "python3"
  },
  "language_info": {
   "codemirror_mode": {
    "name": "ipython",
    "version": 3
   },
   "file_extension": ".py",
   "mimetype": "text/x-python",
   "name": "python",
   "nbconvert_exporter": "python",
   "pygments_lexer": "ipython3",
   "version": "3.11.0"
  }
 },
 "nbformat": 4,
 "nbformat_minor": 5
}

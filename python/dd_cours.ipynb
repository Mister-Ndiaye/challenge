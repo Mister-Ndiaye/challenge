{
 "cells": [
  {
   "cell_type": "code",
   "execution_count": null,
   "id": "31b81207",
   "metadata": {},
   "outputs": [],
   "source": [
    "Week 1: Introduction to Python and Programming Basics\n",
    "\n",
    "Day 1: Introduction to Python\n",
    "\n",
    "What is Python?\n",
    "Setting up the Python environment (e.g., installing Python, IDEs)\n",
    "Running your first Python program (Hello World)\n",
    "Day 2: Variables and Data Types\n",
    "\n",
    "Variables and assignments\n",
    "Numeric data types (int, float)\n",
    "String data type and string manipulation\n",
    "Day 3: User Input and Output\n",
    "\n",
    "Getting user input (input function)\n",
    "Displaying output (print function)\n",
    "Formatting output (f-strings)\n",
    "Day 4: Basic Operations\n",
    "\n",
    "Arithmetic operators\n",
    "Comparison operators\n",
    "Logical operators\n",
    "Day 5: Conditional Statements\n",
    "\n",
    "If statements\n",
    "If-else statements\n",
    "Nested if statements\n",
    "Week 2: Control Structures and Functions\n",
    "\n",
    "Day 6: Loops (Part 1)\n",
    "\n",
    "While loop\n",
    "Infinite loops and loop control (break and continue)\n",
    "Day 7: Loops (Part 2)\n",
    "\n",
    "For loop\n",
    "Looping through sequences (e.g., lists, strings)\n",
    "Day 8: Lists\n",
    "\n",
    "What is a list?\n",
    "List operations (append, insert, remove, etc.)\n",
    "List slicing\n",
    "Day 9: Functions (Part 1)\n",
    "\n",
    "Defining functions\n",
    "Function parameters and arguments\n",
    "Return statements\n",
    "Day 10: Functions (Part 2)\n",
    "\n",
    "Function scope and global variables\n",
    "Function recursion\n",
    "Best practices in writing functions\n",
    "Week 3: Data Structures and Intermediate Concepts\n",
    "\n",
    "Day 11: Tuples and Dictionaries\n",
    "\n",
    "Tuples and tuple packing/unpacking\n",
    "Introduction to dictionaries\n",
    "Day 12: More on Dictionaries\n",
    "\n",
    "Dictionary methods and operations\n",
    "Dictionary iteration\n",
    "Day 13: File Handling\n",
    "\n",
    "Opening, reading, and writing files\n",
    "File modes and error handling\n",
    "Day 14: Exception Handling\n",
    "\n",
    "Handling exceptions (try, except, finally)\n",
    "Custom exceptions\n",
    "Day 15: Modules and Libraries\n",
    "\n",
    "Introduction to Python modules and libraries\n",
    "Using external libraries (e.g., NumPy, pandas)\n",
    "Week 4: Advanced Topics and Projects\n",
    "\n",
    "Day 16: Object-Oriented Programming (OOP) Basics\n",
    "\n",
    "Classes and objects\n",
    "Constructors and methods\n",
    "Inheritance and polymorphism\n",
    "Day 17: Python Projects\n",
    "\n",
    "Choose a simple project idea (e.g., a basic game, a data analysis task) and work on it as a group project.\n",
    "Day 18: Project Work (Continued)\n",
    "\n",
    "Continue working on the group project, implementing features and refining code.\n",
    "Day 19: Project Presentation\n",
    "\n",
    "Each group presents their project and discusses the challenges faced and lessons learned.\n",
    "Day 20: Recap and Future Learning\n",
    "\n",
    "Review of key concepts\n",
    "Resources for further Python learning and projects"
   ]
  },
  {
   "cell_type": "code",
   "execution_count": 47,
   "id": "8fb0da5f",
   "metadata": {},
   "outputs": [
    {
     "data": {
      "text/plain": [
       "'Aasa '"
      ]
     },
     "execution_count": 47,
     "metadata": {},
     "output_type": "execute_result"
    }
   ],
   "source": [
    "# int \n",
    "# float \n",
    "\n",
    "#tuple \n",
    "a= 3,2\n",
    "# NOT supported a[0]=12\n",
    "# list\n",
    "a = [1,2,3]\n",
    "b = [a,a,1,{1:'Alassane'}]\n",
    "\n",
    "b = [i**2 for i  in range(10) if i%2==0]\n",
    "a = 'Alaasnae '\n",
    "b = [i for i in a if i in 'Ndiaye']\n",
    "set(b)\n",
    "\n",
    "dic= {}\n",
    "dic['200']={'nom':'Diouf','prenom':'Dior'}\n",
    "dic\n",
    "\n",
    "\n",
    "a[::2]"
   ]
  },
  {
   "cell_type": "markdown",
   "id": "5f29dd49",
   "metadata": {},
   "source": [
    "Exercice1"
   ]
  },
  {
   "cell_type": "markdown",
   "id": "feb5efeb",
   "metadata": {},
   "source": [
    "On veut réaliser un programme (une classe DessineTriangle) qui dessine : \n",
    " un triangle rectangle dirigé soit vers le haut comme suit: \n",
    "soit dirigé vers le bas comme suit: \n",
    "NB : Vous utiliserez des astérix pour représenter les côtés du triangle. \n",
    "On prévoira deux méthodes dans cette classe: \n",
    "public void dessineTriangleBas (int m) : cette méthode permettra de dessiner le triangle \n",
    "orienté vers le bas. Le paramètre m passé en argument à la méthode sera la taille du tableau. \n",
    "public void dessineTriangleHaut (int n) pour dessiner le triangle orienté vers le haut. \n",
    "Créer ensuite une seconde classe principale TestTriangle pour tester le code ci-dessus. \n",
    "On imposera à l’utilisateur de saisir une taille comprise entre 3 et 10 et l’utilisateur n’a droit \n",
    "qu’à 3 essais au maximum pour donner une valeur acceptable. Passé ce nombre, on met fin à \n",
    "l’exécution du programme (on peut utiliser pour cela System.exit (0)). \n",
    "Le choix de l’orientation du triangle sera la valeur 0 pour dessiner vers le bas et la valeur 1 \n",
    "pour dessiner vers le haut. Le choix sera aussi demandé à l’utilisateur. \n",
    "L’exécution de votre main sera comme suit : \n",
    "Joseph NDONG/UCAD \n",
    "Donner la taille du triangle : 5 \n",
    "Vous avez choisi de dessiner un triangle dont le coté mesure 5 lignes \n",
    "Donner le choix de l’orientation : 1 \n",
    "Le programme dessine un triangle orienté vers le haut : \n",
    "* \n",
    "* * \n",
    "* * * \n",
    "* * * * \n",
    "* * * * * \n",
    "Merci d’avoir dessiner ce triangle."
   ]
  },
  {
   "cell_type": "markdown",
   "id": "0966f19b",
   "metadata": {},
   "source": [
    "solution"
   ]
  },
  {
   "cell_type": "code",
   "execution_count": 63,
   "id": "2b12e04b",
   "metadata": {},
   "outputs": [],
   "source": [
    "def draw_triangle(number):\n",
    "    for i in range(number+1):\n",
    "        print(\"*\"*i)"
   ]
  },
  {
   "cell_type": "markdown",
   "id": "129c7682",
   "metadata": {},
   "source": [
    "Exercice 3 :"
   ]
  },
  {
   "cell_type": "markdown",
   "id": "04192243",
   "metadata": {},
   "source": [
    "Faire un programme permettant de calculer la somme de la série harmonique suivante : \n",
    "1+1/2+1/3+1/4+……………….+1/n. \n",
    "La valeur n sera un entier strictement positif demandé à l’utilisateur. L’utilisateur n’a que 5 \n",
    "possibilités pour choisir une valeur comprise nécessairement entre 1 et 100 sinon on met fin \n",
    "au programme."
   ]
  },
  {
   "cell_type": "markdown",
   "id": "5dc951fd",
   "metadata": {},
   "source": [
    "SOLUTION"
   ]
  },
  {
   "cell_type": "code",
   "execution_count": 84,
   "id": "e8953ab9",
   "metadata": {},
   "outputs": [],
   "source": [
    "def harmoniq_seri():\n",
    "    n=int(input(\"donner un entier: \"))\n",
    "    L=[]\n",
    "    somme_harmonic = 0.0\n",
    "    for i in range(1,n+1):\n",
    "        #somme_harmonic+=1/i\n",
    "        L.append(1/i)\n",
    "    return sum(L)"
   ]
  },
  {
   "cell_type": "code",
   "execution_count": 85,
   "id": "107ea1c1",
   "metadata": {},
   "outputs": [
    {
     "name": "stdout",
     "output_type": "stream",
     "text": [
      "donner un entier: 5\n"
     ]
    },
    {
     "data": {
      "text/plain": [
       "2.283333333333333"
      ]
     },
     "execution_count": 85,
     "metadata": {},
     "output_type": "execute_result"
    }
   ],
   "source": [
    "harmoniq_seri()"
   ]
  },
  {
   "cell_type": "code",
   "execution_count": null,
   "id": "ae225373",
   "metadata": {},
   "outputs": [
    {
     "name": "stdout",
     "output_type": "stream",
     "text": [
      "entre un nombre superieur à  5 : 1\n",
      "entre un nombre superieur à  5 : 2\n",
      "entre un nombre superieur à  5 : 1\n",
      "entre un nombre superieur à  5 : 2\n",
      "entre un nombre superieur à  5 : 1\n",
      "entre un nombre superieur à  5 : 2\n",
      "entre un nombre superieur à  5 : 1\n",
      "entre un nombre superieur à  5 : 2\n",
      "entre un nombre superieur à  5 : 1\n",
      "entre un nombre superieur à  5 : 2\n",
      "entre un nombre superieur à  5 : 1\n",
      "entre un nombre superieur à  5 : 2\n",
      "entre un nombre superieur à  5 : 14\n",
      "entre un nombre superieur à  5 : 44\n"
     ]
    }
   ],
   "source": [
    " repeat =True\n",
    "nb=0\n",
    "n=2\n",
    "while(n<5 or nb>4):\n",
    "    nb+=1\n",
    "    n =int( input(\"entre un nombre superieur à  5 : \"))\n",
    "    "
   ]
  },
  {
   "cell_type": "code",
   "execution_count": 2,
   "id": "58f16cfe",
   "metadata": {},
   "outputs": [
    {
     "data": {
      "text/plain": [
       "False"
      ]
     },
     "execution_count": 2,
     "metadata": {},
     "output_type": "execute_result"
    }
   ],
   "source": [
    "a = True and False\n",
    "a"
   ]
  },
  {
   "cell_type": "code",
   "execution_count": 62,
   "id": "c5005c9c",
   "metadata": {},
   "outputs": [
    {
     "name": "stdout",
     "output_type": "stream",
     "text": [
      "*\n",
      "**\n",
      "***\n"
     ]
    }
   ],
   "source": [
    "a=[1,2,3]\n",
    "for i in a: \n",
    "    print('*'*i)"
   ]
  },
  {
   "cell_type": "code",
   "execution_count": 60,
   "id": "732367ea",
   "metadata": {},
   "outputs": [
    {
     "name": "stdout",
     "output_type": "stream",
     "text": [
      "\n",
      "*\n",
      "**\n",
      "***\n",
      "****\n",
      "*****\n"
     ]
    }
   ],
   "source": [
    "draw_triangle(5)"
   ]
  },
  {
   "cell_type": "code",
   "execution_count": null,
   "id": "30e17ef1",
   "metadata": {},
   "outputs": [],
   "source": []
  }
 ],
 "metadata": {
  "kernelspec": {
   "display_name": "Python 3 (ipykernel)",
   "language": "python",
   "name": "python3"
  },
  "language_info": {
   "codemirror_mode": {
    "name": "ipython",
    "version": 3
   },
   "file_extension": ".py",
   "mimetype": "text/x-python",
   "name": "python",
   "nbconvert_exporter": "python",
   "pygments_lexer": "ipython3",
   "version": "3.11.0"
  }
 },
 "nbformat": 4,
 "nbformat_minor": 5
}

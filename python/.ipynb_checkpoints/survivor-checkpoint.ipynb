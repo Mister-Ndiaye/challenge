{
 "cells": [
  {
   "cell_type": "code",
   "execution_count": null,
   "id": "206d55b9",
   "metadata": {},
   "outputs": [],
   "source": [
    "\n",
    "for m ≥ 0 and 0 ≤ l < 2^m.\n"
   ]
  },
  {
   "cell_type": "code",
   "execution_count": null,
   "id": "76cff51a",
   "metadata": {},
   "outputs": [],
   "source": [
    "V1 "
   ]
  },
  {
   "cell_type": "code",
   "execution_count": 26,
   "id": "db6e7b0b",
   "metadata": {},
   "outputs": [
    {
     "data": {
      "text/plain": [
       "1"
      ]
     },
     "execution_count": 26,
     "metadata": {},
     "output_type": "execute_result"
    }
   ],
   "source": [
    "\n",
    "def find_survivor_v1(n):\n",
    "    m,l=0,0\n",
    "    for i in range(1,n):\n",
    "        if 2**i<=n:\n",
    "            m=i\n",
    "            l = n-2**m\n",
    "            \n",
    "    return 2*l+1\n",
    "\n",
    "test(4)"
   ]
  },
  {
   "cell_type": "code",
   "execution_count": null,
   "id": "311dc529",
   "metadata": {},
   "outputs": [],
   "source": [
    "V2"
   ]
  },
  {
   "cell_type": "code",
   "execution_count": 31,
   "id": "1ad04a83",
   "metadata": {},
   "outputs": [
    {
     "data": {
      "text/plain": [
       "4.169925001442312"
      ]
     },
     "execution_count": 31,
     "metadata": {},
     "output_type": "execute_result"
    }
   ],
   "source": [
    "# here is the cleanest way do it \n",
    "# exemples\n",
    "\n",
    "# if n=16 => m = int(log2(16)) = 4\n",
    "\n",
    "# if n=18 => m = int(log2(18)) = 4  \n",
    "\n",
    "# hint : review what is the log2 of a given number\n",
    "\n",
    "from math import log2\n",
    "\n",
    "def find_survivor_v2(n):\n",
    "    m = int(log2(n))\n",
    "    l = l = n-2**m\n",
    "    \n",
    "    return 2*l+1\n",
    "\n",
    "find_survivor_v2(16)\n"
   ]
  }
 ],
 "metadata": {
  "kernelspec": {
   "display_name": "Python 3 (ipykernel)",
   "language": "python",
   "name": "python3"
  },
  "language_info": {
   "codemirror_mode": {
    "name": "ipython",
    "version": 3
   },
   "file_extension": ".py",
   "mimetype": "text/x-python",
   "name": "python",
   "nbconvert_exporter": "python",
   "pygments_lexer": "ipython3",
   "version": "3.11.0"
  }
 },
 "nbformat": 4,
 "nbformat_minor": 5
}

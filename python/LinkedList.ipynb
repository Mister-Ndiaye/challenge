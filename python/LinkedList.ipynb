{
 "cells": [
  {
   "cell_type": "code",
   "execution_count": 26,
   "id": "c870090e",
   "metadata": {},
   "outputs": [],
   "source": [
    "class Node:\n",
    "    \n",
    "    def __init__(self, value):\n",
    "        self.data =value\n",
    "        self.next = None\n"
   ]
  },
  {
   "cell_type": "code",
   "execution_count": 124,
   "id": "6af6cec7",
   "metadata": {},
   "outputs": [],
   "source": [
    "class LinkedList:\n",
    "    def __init__(self):\n",
    "        self.head = None\n",
    "        self.next = None\n",
    "        #self.prev = None todo later bidirectionnal LinkedList \n",
    "        self.count = 0\n",
    "        \n",
    "    def add(self,value):\n",
    "        if self.count:\n",
    "            current = self.head\n",
    "            while(current.next != None):\n",
    "                current = current.next\n",
    "            current.next=Node(value)\n",
    "        else:\n",
    "            self.head=Node(value)\n",
    "        self.count+=1\n",
    " \n",
    "    def insert(self,indexTarget,value):\n",
    "        index = 0\n",
    "        if self.count:\n",
    "            current = self.head\n",
    "            while(current.next != None):\n",
    "                current = current.next\n",
    "                if index == indexTarget:\n",
    "                    follow = current.next \n",
    "                    current.next = Node(value)\n",
    "                    current.next.next = follow\n",
    "                index += 1\n",
    "            #current.next=Node(value)\n",
    "        else:\n",
    "            self.head=Node(value)\n",
    "        self.count+=1\n",
    "        \n",
    "    def show(self):\n",
    "        nodes =[]\n",
    "        current = self.head\n",
    "        while(current.next!=None):\n",
    "            nodes.append(current.data)\n",
    "            current = current.next\n",
    "        nodes.append(current.data)\n",
    "        return nodes \n",
    "    def size(self):\n",
    "        return self.count\n",
    "    \n",
    "    def getLast(self):\n",
    "        current = self.head\n",
    "        while(current.next!=None):\n",
    "            current = current.next \n",
    "        return current.data\n",
    "    \n",
    "    def getFirst(self):\n",
    "        if self.head != None:\n",
    "            return self.head.data\n",
    "        return 'Empty LinkedList'\n",
    "    \n",
    "    def get(self,indexTarget):\n",
    "        index=0\n",
    "        current = self.head\n",
    "        while(current.next!=None):\n",
    "            if index==indexTarget:\n",
    "                return current.data\n",
    "            current = current.next\n",
    "            index+=1\n",
    "        if  current.data and index==indexTarget:\n",
    "             return current.data\n",
    "        return 'not found'\n"
   ]
  },
  {
   "cell_type": "code",
   "execution_count": 120,
   "id": "9f92ef79",
   "metadata": {},
   "outputs": [
    {
     "data": {
      "text/plain": [
       "[4, 5, 6, 1000, 7]"
      ]
     },
     "execution_count": 120,
     "metadata": {},
     "output_type": "execute_result"
    }
   ],
   "source": [
    "lk = LinkedList()\n",
    "lk.add(4)\n",
    "lk.add(5)\n",
    "lk.add(6)\n",
    "lk.add(7)\n",
    "lk.insert(1,1000)\n",
    "lk.size()\n",
    "lk.get(0)\n",
    "lk.show()"
   ]
  },
  {
   "cell_type": "code",
   "execution_count": 123,
   "id": "f2780b09",
   "metadata": {},
   "outputs": [
    {
     "data": {
      "text/plain": [
       "[4, 5, 6, 1000, 7, {'nom': 'Alassane'}]"
      ]
     },
     "execution_count": 123,
     "metadata": {},
     "output_type": "execute_result"
    }
   ],
   "source": [
    "a = {'nom':'Alassane'}\n",
    "lk.add(a)\n",
    "lk.show()"
   ]
  },
  {
   "cell_type": "markdown",
   "id": "d50bffb0",
   "metadata": {},
   "source": [
    "Binary Search "
   ]
  },
  {
   "cell_type": "code",
   "execution_count": 127,
   "id": "e786106b",
   "metadata": {},
   "outputs": [],
   "source": [
    "c = [1,2,4,5 ,6,7,8,9]\n",
    "c = [1,2,4,5,6,7,8,9]\n"
   ]
  },
  {
   "cell_type": "code",
   "execution_count": 129,
   "id": "850a20c9",
   "metadata": {},
   "outputs": [],
   "source": [
    "def binarySearch(sortedArr, target):\n",
    "    left,right =0,len(sortedArr)-1\n",
    "    while(left<=right):\n",
    "        print(\"hi\")\n",
    "        mid =(left+right)//2\n",
    "        if(sortedArr[mid]==target):\n",
    "            return mid\n",
    "        if sortedArr[mid]<target:\n",
    "            left = mid +1\n",
    "        if sortedArr[mid]>target:\n",
    "            right = mid -1\n",
    "    return -1\n",
    "    "
   ]
  },
  {
   "cell_type": "code",
   "execution_count": 130,
   "id": "437f1fc3",
   "metadata": {},
   "outputs": [
    {
     "name": "stdout",
     "output_type": "stream",
     "text": [
      "hi\n",
      "hi\n"
     ]
    },
    {
     "data": {
      "text/plain": [
       "5"
      ]
     },
     "execution_count": 130,
     "metadata": {},
     "output_type": "execute_result"
    }
   ],
   "source": [
    "binarySearch(c,7)"
   ]
  }
 ],
 "metadata": {
  "kernelspec": {
   "display_name": "Python 3 (ipykernel)",
   "language": "python",
   "name": "python3"
  },
  "language_info": {
   "codemirror_mode": {
    "name": "ipython",
    "version": 3
   },
   "file_extension": ".py",
   "mimetype": "text/x-python",
   "name": "python",
   "nbconvert_exporter": "python",
   "pygments_lexer": "ipython3",
   "version": "3.11.0"
  }
 },
 "nbformat": 4,
 "nbformat_minor": 5
}

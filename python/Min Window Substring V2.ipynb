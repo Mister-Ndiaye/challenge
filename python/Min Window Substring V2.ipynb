{
 "cells": [
  {
   "cell_type": "code",
   "execution_count": null,
   "id": "0d95ed82",
   "metadata": {},
   "outputs": [],
   "source": [
    "Min Window Substring\n",
    "Have the function MinWindowSubstring(strArr) take the array of strings stored in strArr,\n",
    "which will contain only two strings, the first parameter being the string N and the second parameter\n",
    "being a string K of some characters, and your goal is to determine the smallest substring of N\n",
    "that contains all the characters in K.\n",
    "For example: if strArr is [\"aaabaaddae\", \"aed\"] then the smallest substring of N that contains \n",
    "the characters a, e, and d is \"dae\" located at the end of the string.\n",
    "So for this example your program should return the string dae.\n",
    "\n",
    "Another example: if strArr is [\"aabdccdbcacd\", \"aad\"] then the smallest substring of N that contains\n",
    "all of the characters in K is \"aabd\" which is located at the beginning of the string.\n",
    "Both parameters will be strings ranging in length from 1 to 50 characters and all of\n",
    "K's characters will exist somewhere in the string N. Both strings will only contains\n",
    "lowercase alphabetic characters."
   ]
  },
  {
   "cell_type": "code",
   "execution_count": null,
   "id": "03303d3b",
   "metadata": {},
   "outputs": [],
   "source": [
    "Examples\n",
    "Input: [\"ahffaksfajeeubsne\", \"jefaa\"]\n",
    "Output: aksfaje\n",
    "Input: [\"aaffhkksemckelloe\", \"fhea\"]\n",
    "Output: affhkkse"
   ]
  },
  {
   "cell_type": "code",
   "execution_count": null,
   "id": "2770a00c",
   "metadata": {},
   "outputs": [],
   "source": [
    "def MinWindowSubstring(strArr):\n",
    "\n",
    "  # code goes here\n",
    "  return strArr\n",
    "\n",
    "# keep this function call here \n",
    "print(MinWindowSubstring(input()))"
   ]
  },
  {
   "cell_type": "code",
   "execution_count": 9,
   "id": "ef4780d1",
   "metadata": {},
   "outputs": [
    {
     "data": {
      "text/plain": [
       "['ahffaksfajeeubsne', 'jefaa']"
      ]
     },
     "execution_count": 9,
     "metadata": {},
     "output_type": "execute_result"
    }
   ],
   "source": [
    "p=  [\"ahffaksfajeeubsne\", \"jefaa\"]\n",
    "a= p[0]\n",
    "b= p[1]\n",
    "flag=True\n",
    "for i in len(a):\n",
    "    while(flag):\n",
    "        left_move = a[:len(a)-i]\n",
    "        right_move =a[i:]\n",
    "        for i in b:\n",
    "            if \n",
    "    \n"
   ]
  },
  {
   "cell_type": "code",
   "execution_count": 1,
   "id": "facb9db6",
   "metadata": {},
   "outputs": [],
   "source": [
    "def splitor(strArr,roundIndex):\n",
    "    N = strArr[0]\n",
    "    K = strArr[1]\n",
    "    len_N = len(N)\n",
    "    len_K=len(K)\n",
    "    return [ N[i:len_K+i+roundIndex] for i in range(len_N) if i+len_K+roundIndex<=len_N]\n",
    "\n",
    "def valid_windows(windows,K):\n",
    "    valid_windows=[]\n",
    "    for window in windows:\n",
    "        valid = True\n",
    "        for i in K:\n",
    "            if  window.count(i)<K.count(i):\n",
    "                valid=False\n",
    "        if  valid :\n",
    "            valid_windows.append(window)\n",
    "            valid=True\n",
    "    return valid_windows\n",
    "\n",
    "def MinWindowSubstring(strArr):\n",
    "    for i in range(len(strArr[0])):\n",
    "        valid_window = valid_windows(splitor(strArr,i),strArr[1])\n",
    "        if(len(valid_window)>0):\n",
    "            return valid_window[0]\n",
    "    return 0"
   ]
  }
 ],
 "metadata": {
  "kernelspec": {
   "display_name": "Python 3 (ipykernel)",
   "language": "python",
   "name": "python3"
  },
  "language_info": {
   "codemirror_mode": {
    "name": "ipython",
    "version": 3
   },
   "file_extension": ".py",
   "mimetype": "text/x-python",
   "name": "python",
   "nbconvert_exporter": "python",
   "pygments_lexer": "ipython3",
   "version": "3.11.0"
  }
 },
 "nbformat": 4,
 "nbformat_minor": 5
}

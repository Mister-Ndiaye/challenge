{
 "cells": [
  {
   "cell_type": "code",
   "execution_count": 8,
   "id": "dcad8fa6",
   "metadata": {},
   "outputs": [
    {
     "name": "stdout",
     "output_type": "stream",
     "text": [
      "0123456789"
     ]
    }
   ],
   "source": [
    "int a =10+1;\n",
    "for(int i =0;i<10;i++){\n",
    "    System.out.print(i); \n",
    "}"
   ]
  },
  {
   "cell_type": "code",
   "execution_count": 31,
   "id": "607f7cd1",
   "metadata": {},
   "outputs": [
    {
     "name": "stdout",
     "output_type": "stream",
     "text": [
      "apple/banana/orange\n"
     ]
    }
   ],
   "source": [
    "List<String> elements = Arrays.asList(\"apple\", \"banana\", \"orange\");\n",
    "StringJoiner joiner = new StringJoiner(\"/\");\n",
    "for (String element : elements) {\n",
    "    joiner.add(element);\n",
    "}\n",
    "//String result = joiner.toString();\n",
    "System.out.println(joiner); "
   ]
  },
  {
   "cell_type": "code",
   "execution_count": 46,
   "id": "1f913357",
   "metadata": {},
   "outputs": [
    {
     "name": "stdout",
     "output_type": "stream",
     "text": [
      "3\n"
     ]
    }
   ],
   "source": [
    "System.out.println(3); "
   ]
  },
  {
   "cell_type": "code",
   "execution_count": null,
   "id": "6d99cd4e",
   "metadata": {},
   "outputs": [],
   "source": []
  },
  {
   "cell_type": "code",
   "execution_count": 37,
   "id": "210b08a8",
   "metadata": {},
   "outputs": [
    {
     "data": {
      "text/plain": [
       "[Apple, Banana, Cherry]"
      ]
     },
     "execution_count": 37,
     "metadata": {},
     "output_type": "execute_result"
    }
   ],
   "source": [
    " LinkedList<String> linkedList = new LinkedList<>();\n",
    "\n",
    "// Add elements to the list\n",
    "linkedList.add(\"Apple\");\n",
    "linkedList.add(\"Banana\");\n",
    "linkedList.add(\"Cherry\");\n",
    "linkedList.addLast(\"mee\");\n",
    "linkedList.removeLast();\n",
    "linkedList"
   ]
  },
  {
   "cell_type": "code",
   "execution_count": 36,
   "id": "ddc0249f",
   "metadata": {},
   "outputs": [],
   "source": [
    "public class Stack{\n",
    "    private int  MAXSIZE =0; ;\n",
    "    private LinkedList<String> stack = new LinkedList<>() ;\n",
    "    public Stack(int size){  \n",
    "        this.MAXSIZE = size;\n",
    "    }\n",
    "}"
   ]
  },
  {
   "cell_type": "code",
   "execution_count": 54,
   "id": "09e2a788",
   "metadata": {},
   "outputs": [
    {
     "name": "stdout",
     "output_type": "stream",
     "text": [
      "5 4 3 2 1 "
     ]
    },
    {
     "data": {
      "text/plain": [
       "[I@3f3dadde"
      ]
     },
     "execution_count": 54,
     "metadata": {},
     "output_type": "execute_result"
    }
   ],
   "source": [
    "public int[] shiftArray(int[] arr, int rounds) {\n",
    "    int n = arr.length;\n",
    "    rounds = rounds % n; // Ensure rounds are within array length\n",
    "\n",
    "    // Reverse the first part of the array\n",
    "    reverseArray(arr, 0, n - 1 - rounds);\n",
    "\n",
    "    // Reverse the second part of the array\n",
    "    reverseArray(arr, n - rounds, n - 1);\n",
    "\n",
    "    // Reverse the whole array\n",
    "    reverseArray(arr, 0, n - 1);\n",
    "    \n",
    "      for (int num : arr) {\n",
    "            System.out.print(num + \" \");\n",
    "        }\n",
    "    return arr;\n",
    "    \n",
    "}\n",
    "\n",
    "\n",
    "public  int[]  reverseArray(int[] arr, int start, int end) {\n",
    "    while (start < end) {\n",
    "        int temp = arr[start];\n",
    "        arr[start] = arr[end];\n",
    "        arr[end] = temp;\n",
    "        start++;\n",
    "        end--;\n",
    "    }\n",
    "          for (int num : arr) {\n",
    "            System.out.print(num + \" \");\n",
    "        }\n",
    "    return arr ; \n",
    "}\n",
    "\n",
    "\n",
    "int[] arr = {1, 2, 3, 4, 5};\n",
    "int rounds = 2;       // Number of rounds to shift the elements\n",
    "\n",
    "reverseArray(arr,0,4);\n"
   ]
  },
  {
   "cell_type": "code",
   "execution_count": 57,
   "id": "ded25ab9",
   "metadata": {},
   "outputs": [
    {
     "data": {
      "text/plain": [
       "apple,banana"
      ]
     },
     "execution_count": 57,
     "metadata": {},
     "output_type": "execute_result"
    }
   ],
   "source": [
    "List<String> elements = Arrays.asList(\"apple\", \"banana\", \"orange\");\n",
    "StringJoiner joiner = new StringJoiner(\",\");\n",
    "joiner.add(elements.get(0));\n",
    "joiner.add(elements.get(1));\n",
    "joiner"
   ]
  },
  {
   "cell_type": "code",
   "execution_count": 59,
   "id": "d45be124",
   "metadata": {},
   "outputs": [
    {
     "data": {
      "text/plain": [
       "true"
      ]
     },
     "execution_count": 59,
     "metadata": {},
     "output_type": "execute_result"
    }
   ],
   "source": [
    "String s = \"hello word\";\n",
    "s.contains(\"llo\")\n"
   ]
  }
 ],
 "metadata": {
  "kernelspec": {
   "display_name": "Java",
   "language": "java",
   "name": "java"
  },
  "language_info": {
   "codemirror_mode": "java",
   "file_extension": ".jshell",
   "mimetype": "text/x-java-source",
   "name": "Java",
   "pygments_lexer": "java",
   "version": "11.0.16.1+1-LTS"
  }
 },
 "nbformat": 4,
 "nbformat_minor": 5
}

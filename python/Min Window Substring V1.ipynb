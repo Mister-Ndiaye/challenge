{
 "cells": [
  {
   "cell_type": "markdown",
   "id": "a3519513",
   "metadata": {},
   "source": [
    "# Min Window Substring\n",
    "\n"
   ]
  },
  {
   "cell_type": "markdown",
   "id": "1dbbd827",
   "metadata": {},
   "source": [
    "Min Window Substring\n",
    "Have the function MinWindowSubstring(strArr) take the array of strings stored in \n",
    "strArr, which will contain only two strings, the first parameter being the string\n",
    "N and the second parameter being a string K of some characters, and your\n",
    "goal is to determine the smallest substring of N that contains all the characters\n",
    "in K. For example: if strArr is [\"aaabaaddae\", \"aed\"] then\n",
    "the smallest substring of N that contains the characters a, e, and\n",
    "d is \"dae\" located at the end of the string. \n",
    "So for this example your program should return the string dae.\n",
    "\n",
    "Another example: if strArr is [\"aabdccdbcacd\", \"aad\"] then the smallest substring of\n",
    "N that contains all of the characters in K is \"aabd\" which\n",
    "is located at the beginning of the string. Both parameters will be\n",
    "strings ranging in length from 1 to 50 characters and all of \n",
    "K's characters will exist somewhere in the string N. Both strings will only contains\n",
    "lowercase alphabetic characters.\n",
    "Examples\n",
    "Input: [\"ahffaksfajeeubsne\", \"jefaa\"]\n",
    "Output: aksfaje\n",
    "Input: [\"aaffhkksemckelloe\", \"fhea\"]\n",
    "Output: affhkkse\n",
    "    \n",
    "\n",
    "    "
   ]
  },
  {
   "cell_type": "code",
   "execution_count": 2,
   "id": "d2040f08",
   "metadata": {},
   "outputs": [],
   "source": [
    "\n",
    "def windsubstring(input):\n",
    "    tab = input[0]\n",
    "    search = input[1]\n",
    "    result=''\n",
    "    l_tab = len(tab)\n",
    "    l_search = len(search)\n",
    "    for i in range(l_tab - l_search):\n",
    "        search_tab = splitor(tab,l_search+i)\n",
    "        reslt = isIn(search_tab,search)\n",
    "        if(reslt):\n",
    "            return reslt\n",
    "    return reslt\n",
    "\n",
    "def splitor(tab,numb):\n",
    "    liste = []\n",
    "    str1=\"\"\n",
    "    l = len(tab)\n",
    "    for i in range(l):\n",
    "        str1 = tab[i:numb+i]\n",
    "        if len(str1)==numb:\n",
    "            liste.append(str1)\n",
    "    return liste\n",
    "\n",
    "def isIn(tab, element):\n",
    "    for i in tab : \n",
    "        okay=False\n",
    "        for j in element:\n",
    "            if i.count(j)<element.count(j)  :\n",
    "                okay=True\n",
    "        if okay ==False:\n",
    "            return i\n",
    "    return False"
   ]
  },
  {
   "cell_type": "code",
   "execution_count": 4,
   "id": "427edb27",
   "metadata": {},
   "outputs": [
    {
     "data": {
      "text/plain": [
       "'aksfaje'"
      ]
     },
     "execution_count": 4,
     "metadata": {},
     "output_type": "execute_result"
    }
   ],
   "source": [
    "#windsubstring([\"aaabaaddae\", \"aed\"] )\n",
    "#windsubstring([\"aabdccdbcacd\", \"aad\"])\n",
    "#windsubstring( [\"ahffaksfajeeubsne\", \"jefaa\"])\n",
    "windsubstring([\"aaffhkksemckelloe\", \"fhea\"])"
   ]
  },
  {
   "cell_type": "code",
   "execution_count": 20,
   "id": "92da49a1",
   "metadata": {},
   "outputs": [],
   "source": [
    "a=[\"aaffhkksemckelloe\", \"fhea\"]\n",
    "\n",
    "# l_O =len(a[0])\n",
    "# a0=a[0]\n",
    "# l_1 =len(a[1])\n",
    "# windows = [ a0[i:4+i] for i in range(l_O) if i+4<=l_O ]\n",
    "# windows\n"
   ]
  },
  {
   "cell_type": "code",
   "execution_count": 38,
   "id": "9b6fa342",
   "metadata": {},
   "outputs": [
    {
     "data": {
      "text/plain": [
       "26"
      ]
     },
     "execution_count": 38,
     "metadata": {},
     "output_type": "execute_result"
    }
   ],
   "source": []
  }
 ],
 "metadata": {
  "kernelspec": {
   "display_name": "Python 3 (ipykernel)",
   "language": "python",
   "name": "python3"
  },
  "language_info": {
   "codemirror_mode": {
    "name": "ipython",
    "version": 3
   },
   "file_extension": ".py",
   "mimetype": "text/x-python",
   "name": "python",
   "nbconvert_exporter": "python",
   "pygments_lexer": "ipython3",
   "version": "3.11.0"
  }
 },
 "nbformat": 4,
 "nbformat_minor": 5
}

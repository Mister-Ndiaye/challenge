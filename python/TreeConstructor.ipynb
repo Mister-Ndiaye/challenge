{
 "cells": [
  {
   "cell_type": "markdown",
   "id": "88b97113",
   "metadata": {},
   "source": [
    "Tree Constructor\n",
    "Have the function TreeConstructor(strArr) take the array of strings stored in strArr,\n",
    "which will contain pairs of integers in the following format: (i1,i2), \n",
    "where i1 represents a child node in a tree and the second integer i2 signifies that it is the parent of i1.\n",
    "For example: if strArr is [\"(1,2)\", \"(2,4)\", \"(7,2)\"], then this forms the following tree:\n",
    "\n",
    "which you can see forms a proper binary tree. Your program should, in this case,\n",
    "return the string true because a valid binary tree can be formed.\n",
    "If a proper binary tree cannot be formed with the integer pairs,\n",
    "then return the string false. All of the integers within the tree will be unique,\n",
    "which means there can only be one node in the tree with the given integer value.\n",
    "\n",
    "Examples\n",
    "Input: [\"(1,2)\", \"(2,4)\", \"(5,7)\", \"(7,2)\", \"(9,5)\"]\n",
    "    \n",
    "Output: true\n",
    "    \n",
    "Input: [\"(1,2)\", \"(3,2)\", \"(2,12)\", \"(5,2)\"]\n",
    "    \n",
    "Output: false\n",
    "Tags\n"
   ]
  },
  {
   "cell_type": "code",
   "execution_count": 64,
   "id": "2b2dc48a",
   "metadata": {},
   "outputs": [
    {
     "name": "stdout",
     "output_type": "stream",
     "text": [
      "3\n"
     ]
    },
    {
     "data": {
      "text/plain": [
       "False"
      ]
     },
     "execution_count": 64,
     "metadata": {},
     "output_type": "execute_result"
    }
   ],
   "source": [
    "#a = [\"(1,2)\", \"(2,4)\", \"(5,7)\", \"(7,2)\", \"(9,5)\"]\n",
    "a = [\"(1,2)\", \"(3,2)\", \"(2,12)\", \"(5,2)\"]\n",
    "#a = [\"(2,5)\", \"(2,6)\"] \n",
    "\n",
    "\n",
    "def desnt_have_more_than_2_child(array):\n",
    "    child= 0\n",
    "    arr = [eval(x) for x in array]\n",
    "    for i in arr : \n",
    "        for j in arr :\n",
    "            if i[1]==j[1]  :\n",
    "                child +=1\n",
    "                \n",
    "        if child>2:\n",
    "            print(child)\n",
    "            return False\n",
    "        child=0\n",
    "    return True\n",
    "        \n",
    "desnt_have_more_than_2_child(a)\n"
   ]
  },
  {
   "cell_type": "code",
   "execution_count": null,
   "id": "445d3339",
   "metadata": {},
   "outputs": [],
   "source": [
    "def TreeConstructor(strArr): \n",
    "    \n",
    "    children = []\n",
    "    parents = []\n",
    "\n",
    "    \n",
    "    for pair in strArr:\n",
    "        # convert strings into numbers\n",
    "        i1, i2 = eval(pair)\n",
    "        \n",
    "        # a child can't have more than 1 parent\n",
    "        if i1 in children:\n",
    "            return(\"false\")\n",
    "        else:\n",
    "            children.append(i1)\n",
    "            parents.append(i2)\n",
    "            # a parent can't have more than 2 children\n",
    "            if parents.count(i2) > 2:\n",
    "                return(\"false\")\n",
    "    \n",
    "    # check if there is more than one tree\n",
    "    no_parents = 0 \n",
    "        \n",
    "    for i in parents:\n",
    "        if children.count(i) == 0:\n",
    "            no_parents = no_parents +1\n",
    "    \n",
    "    if no_parents > 1:\n",
    "        return(\"false\")\n",
    "            \n",
    "    return(\"true\")\n",
    "    \n",
    "# keep this function call here  \n",
    "print TreeConstructor(raw_input())\n"
   ]
  },
  {
   "cell_type": "code",
   "execution_count": null,
   "id": "9af82d16",
   "metadata": {},
   "outputs": [],
   "source": []
  }
 ],
 "metadata": {
  "kernelspec": {
   "display_name": "Python 3 (ipykernel)",
   "language": "python",
   "name": "python3"
  },
  "language_info": {
   "codemirror_mode": {
    "name": "ipython",
    "version": 3
   },
   "file_extension": ".py",
   "mimetype": "text/x-python",
   "name": "python",
   "nbconvert_exporter": "python",
   "pygments_lexer": "ipython3",
   "version": "3.11.0"
  }
 },
 "nbformat": 4,
 "nbformat_minor": 5
}

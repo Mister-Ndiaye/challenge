{
 "cells": [
  {
   "cell_type": "markdown",
   "id": "2834e810",
   "metadata": {},
   "source": [
    "\n",
    "# MOSH MASTER PUTHON \n"
   ]
  },
  {
   "cell_type": "markdown",
   "id": "d956368d",
   "metadata": {},
   "source": [
    "fizz_buzz"
   ]
  },
  {
   "cell_type": "code",
   "execution_count": 12,
   "id": "47784765",
   "metadata": {},
   "outputs": [
    {
     "data": {
      "text/plain": [
       "'fizz_buzz'"
      ]
     },
     "execution_count": 12,
     "metadata": {},
     "output_type": "execute_result"
    }
   ],
   "source": [
    "def fizz_buzz(number):\n",
    "    if( number%5==0 and  number%3==0 ):\n",
    "        return 'fizz_buzz'\n",
    "    if(number%5==0):\n",
    "        return 'buzz'\n",
    "    if(number%3==0):\n",
    "        return 'fizz'\n",
    "    return number\n",
    "fizz_buzz(15)"
   ]
  },
  {
   "cell_type": "code",
   "execution_count": 16,
   "id": "0af98603",
   "metadata": {},
   "outputs": [
    {
     "data": {
      "text/plain": [
       "10"
      ]
     },
     "execution_count": 16,
     "metadata": {},
     "output_type": "execute_result"
    }
   ],
   "source": [
    "def sum_(*arg):\n",
    "    return sum(arg)\n",
    "sum_(1,2,3,4)"
   ]
  },
  {
   "cell_type": "code",
   "execution_count": 15,
   "id": "167743ce",
   "metadata": {},
   "outputs": [
    {
     "name": "stdout",
     "output_type": "stream",
     "text": [
      "Alasss\n"
     ]
    },
    {
     "data": {
      "text/plain": [
       "{'id': 'Alassane', 'nom': 'Alasss'}"
      ]
     },
     "execution_count": 15,
     "metadata": {},
     "output_type": "execute_result"
    }
   ],
   "source": [
    "\n",
    "def test(**kwarg):\n",
    "    print(kwarg['nom'])\n",
    "    return kwarg\n",
    "    \n",
    "test(id='Alassane', nom='Alasss')"
   ]
  },
  {
   "cell_type": "code",
   "execution_count": 22,
   "id": "ba769ddb",
   "metadata": {},
   "outputs": [
    {
     "name": "stdout",
     "output_type": "stream",
     "text": [
      "1 3\n",
      "2 6\n",
      "3 9\n",
      "4 12\n"
     ]
    }
   ],
   "source": []
  }
 ],
 "metadata": {
  "kernelspec": {
   "display_name": "Python 3 (ipykernel)",
   "language": "python",
   "name": "python3"
  },
  "language_info": {
   "codemirror_mode": {
    "name": "ipython",
    "version": 3
   },
   "file_extension": ".py",
   "mimetype": "text/x-python",
   "name": "python",
   "nbconvert_exporter": "python",
   "pygments_lexer": "ipython3",
   "version": "3.11.0"
  }
 },
 "nbformat": 4,
 "nbformat_minor": 5
}

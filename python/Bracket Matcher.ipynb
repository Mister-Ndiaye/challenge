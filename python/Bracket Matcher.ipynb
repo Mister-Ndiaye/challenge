{
 "cells": [
  {
   "cell_type": "markdown",
   "id": "053e41ae",
   "metadata": {},
   "source": [
    "# Bracket Matcher\n"
   ]
  },
  {
   "cell_type": "markdown",
   "id": "ad129208",
   "metadata": {},
   "source": [
    "Bracket Matcher\n",
    "Have the function BracketMatcher(str) take the str parameter being passed and return 1\n",
    "if the brackets are correctly matched and each one is accounted for.\n",
    "Otherwise return 0. For example: if str is \"(hello (world))\",\n",
    "then the output should be 1, but if str is \"((hello (world))\" \n",
    "the the output should be 0 because the brackets do not correctly match up.\n",
    "Only \"(\" and \")\" will be used as brackets. If str contains no brackets return 1.\n",
    "Examples\n",
    "Input: \"(coder)(byte))\"\n",
    "Output: 0\n",
    "Input: \"(c(oder)) b(yte)\"\n",
    "Output: 1"
   ]
  },
  {
   "cell_type": "markdown",
   "id": "97c8bd70",
   "metadata": {},
   "source": [
    "# version 1"
   ]
  },
  {
   "cell_type": "code",
   "execution_count": 28,
   "id": "f2732de1",
   "metadata": {},
   "outputs": [],
   "source": [
    "\n",
    "inp1=  \"(coder)(byte))\"\n",
    "inp2 = \"(c(oder)) b(yte)\"\n",
    "def bracket_matcher(strg):\n",
    "    ope = 0\n",
    "    close = 0\n",
    "    if strg.count('(') !=strg.count(')'):\n",
    "         return 0\n",
    "    for i in strg :\n",
    "        if close>ope:\n",
    "            return 0\n",
    "        if i =='(':\n",
    "                ope +=1\n",
    "        if i ==')' :\n",
    "            close+=1\n",
    "    return 1"
   ]
  },
  {
   "cell_type": "code",
   "execution_count": 46,
   "id": "917f25b5",
   "metadata": {},
   "outputs": [],
   "source": [
    "a = \"()()(\"\n",
    "def is_brackets_correct(ch):\n",
    "    ope = 0\n",
    "    close = 0\n",
    "    for i in ch :\n",
    "        if close>ope:\n",
    "            return 0\n",
    "        if i =='(':\n",
    "            ope +=1\n",
    "        if i ==')' :\n",
    "            close+=1\n",
    "    return 1"
   ]
  },
  {
   "cell_type": "code",
   "execution_count": 35,
   "id": "32e388ad",
   "metadata": {},
   "outputs": [
    {
     "data": {
      "text/plain": [
       "'(coder)(byte))'"
      ]
     },
     "execution_count": 35,
     "metadata": {},
     "output_type": "execute_result"
    }
   ],
   "source": [
    "inp1"
   ]
  },
  {
   "cell_type": "markdown",
   "id": "186d3e54",
   "metadata": {},
   "source": [
    "# version 2 :"
   ]
  },
  {
   "cell_type": "code",
   "execution_count": 59,
   "id": "da6f1164",
   "metadata": {},
   "outputs": [],
   "source": [
    "inp1=  \"(coder)(byte)\""
   ]
  },
  {
   "cell_type": "code",
   "execution_count": 60,
   "id": "218e3ef9",
   "metadata": {},
   "outputs": [
    {
     "data": {
      "text/plain": [
       "1"
      ]
     },
     "execution_count": 60,
     "metadata": {},
     "output_type": "execute_result"
    }
   ],
   "source": [
    "def bracket_matcher_v2(strParam):\n",
    "    stack=[]\n",
    "    #carateres = ['(',')']\n",
    "    for i in strParam :\n",
    "        if i == '(':\n",
    "            stack.append(i)\n",
    "        if i == ')':\n",
    "            if len(stack)==0:\n",
    "                return 0\n",
    "            else:\n",
    "                stack.pop()\n",
    "    return 1 \n",
    "\n",
    "bracket_matcher_v2(inp1)"
   ]
  },
  {
   "cell_type": "code",
   "execution_count": 52,
   "id": "b1b1fb16",
   "metadata": {},
   "outputs": [
    {
     "ename": "ValueError",
     "evalue": "list.remove(x): x not in list",
     "output_type": "error",
     "traceback": [
      "\u001b[1;31m---------------------------------------------------------------------------\u001b[0m",
      "\u001b[1;31mValueError\u001b[0m                                Traceback (most recent call last)",
      "Cell \u001b[1;32mIn[52], line 2\u001b[0m\n\u001b[0;32m      1\u001b[0m a \u001b[38;5;241m=\u001b[39m [\u001b[38;5;241m1\u001b[39m,\u001b[38;5;241m1\u001b[39m,\u001b[38;5;241m2\u001b[39m]\n\u001b[1;32m----> 2\u001b[0m \u001b[43ma\u001b[49m\u001b[38;5;241;43m.\u001b[39;49m\u001b[43mremove\u001b[49m\u001b[43m(\u001b[49m\u001b[38;5;241;43m3\u001b[39;49m\u001b[43m)\u001b[49m\n\u001b[0;32m      3\u001b[0m a\n",
      "\u001b[1;31mValueError\u001b[0m: list.remove(x): x not in list"
     ]
    }
   ],
   "source": [
    "a = [ ]\n",
    "\n",
    "a.remove(3)\n",
    "a"
   ]
  },
  {
   "cell_type": "code",
   "execution_count": null,
   "id": "1394f5b1",
   "metadata": {},
   "outputs": [],
   "source": []
  }
 ],
 "metadata": {
  "kernelspec": {
   "display_name": "Python 3 (ipykernel)",
   "language": "python",
   "name": "python3"
  },
  "language_info": {
   "codemirror_mode": {
    "name": "ipython",
    "version": 3
   },
   "file_extension": ".py",
   "mimetype": "text/x-python",
   "name": "python",
   "nbconvert_exporter": "python",
   "pygments_lexer": "ipython3",
   "version": "3.11.0"
  }
 },
 "nbformat": 4,
 "nbformat_minor": 5
}

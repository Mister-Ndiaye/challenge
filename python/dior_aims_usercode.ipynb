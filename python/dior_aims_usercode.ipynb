{
 "cells": [
  {
   "cell_type": "code",
   "execution_count": null,
   "id": "b579248c",
   "metadata": {},
   "outputs": [],
   "source": [
    "arr = [0 ,-2,7,2,4-6]\n",
    "\n"
   ]
  },
  {
   "cell_type": "code",
   "execution_count": null,
   "id": "6be38bf7",
   "metadata": {},
   "outputs": [],
   "source": [
    "AIMS-Senegal would like to register its students and would like the service\n",
    "who takes care of it is automated. The student's first and last names are recorded. So he is\n",
    "established the following mechanism:\n",
    "1. The student number has two primary fields:\n",
    "The first three consonants of the name are extracted and constitute the first field;\n",
    "The first three letters of the first name are extracted and constitute the second field.\n",
    "In case of missing letters, the system replaces the empty space with the letter \"X\".\n",
    "2. We will agree that this system is not complete and that for Gnansounou students\n",
    "Marcel and Gnonas Marcellin will have the same identifier, namely GNNMAR. We will add\n",
    "therefore a third field (composed of three numbers), so that if Gnansounou Marcel\n",
    "registered first, the number that will be allocated to them is GNNMAR001. Gnonas Marcellin,\n",
    "whoever registers afterwards will then have the number GNNMAR002. The third field\n",
    "then constitutes the registration order. We will assume that it will not exceed 999.\n",
    "Your role is therefore to write a Python program that implements this automation.\n",
    "The program must obviously have for inputs the first and last names of the student and\n",
    "for output, its registration number."
   ]
  },
  {
   "cell_type": "code",
   "execution_count": null,
   "id": "948eb89f",
   "metadata": {},
   "outputs": [],
   "source": [
    "list_aims_code = []\n"
   ]
  },
  {
   "cell_type": "code",
   "execution_count": null,
   "id": "ee93572f",
   "metadata": {},
   "outputs": [],
   "source": [
    "def code(fist_name,last_name):\n",
    "    code = ''\n",
    "    if len(last_name)>3 :\n",
    "        code = last_name[:3]\n",
    "    else : \n",
    "        code=fist_name+'x'*3-len(last_name)\n",
    "        \n",
    "    if len(fist_name)>3 :\n",
    "        code += last_name[:3]\n",
    "    else : \n",
    "        code+=fist_name+'x'*3-len(fist_name)\n",
    "    "
   ]
  }
 ],
 "metadata": {
  "kernelspec": {
   "display_name": "Python 3 (ipykernel)",
   "language": "python",
   "name": "python3"
  },
  "language_info": {
   "codemirror_mode": {
    "name": "ipython",
    "version": 3
   },
   "file_extension": ".py",
   "mimetype": "text/x-python",
   "name": "python",
   "nbconvert_exporter": "python",
   "pygments_lexer": "ipython3",
   "version": "3.11.0"
  }
 },
 "nbformat": 4,
 "nbformat_minor": 5
}

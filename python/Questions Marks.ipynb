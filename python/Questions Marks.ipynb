{
 "cells": [
  {
   "cell_type": "code",
   "execution_count": null,
   "id": "2cb1f8fa",
   "metadata": {},
   "outputs": [],
   "source": [
    "Questions Marks\n",
    "Have the function QuestionsMarks(str) take the str string parameter,\n",
    "which will contain single digit numbers, letters, and question marks,\n",
    "and check if there are exactly 3 question marks between every pair of two numbers that add up to 10.\n",
    "If so, then your program should return the string true,\n",
    "otherwise it should return the string false. If there \n",
    "aren't any two numbers that add up to 10 in the string,\n",
    "then your program should return false as well.\n",
    "\n",
    "For example: if str is \"arrb6???4xxbl5???eee5\" \n",
    "then your program should return true because there are exactly 3 question marks between 6 and 4,\n",
    "and 3 question marks between 5 and 5 at the end of the string.\n",
    "\n",
    "\n",
    "    Examples\n",
    "    Input: \"aa6?9\"\n",
    "    Output: false\n",
    "    Input: \"acc?7??sss?3rr1??????5\"\n",
    "    Output: true\n",
    "    Tags"
   ]
  },
  {
   "cell_type": "code",
   "execution_count": null,
   "id": "fabe7e7e",
   "metadata": {},
   "outputs": [],
   "source": [
    "b= \"acc?7??sss?3rr1??????5\"\n",
    "c=\"aa6?9\"\n",
    "d =\"arrb6???4xxbl5???eee5\"\n",
    "a = \"arrb6???4xxbl5???eee5\"\n",
    "e= \"aaaaaaarrrrr??????\" \n",
    "g = \"mbbv???????????4??????ddsdsdcc9?\" "
   ]
  },
  {
   "cell_type": "code",
   "execution_count": 3,
   "id": "957f5f7c",
   "metadata": {},
   "outputs": [],
   "source": [
    "\n",
    "\n",
    "def questions_marks(a):\n",
    "    left,right =0,0\n",
    "    question_marks = 0\n",
    "    dic = []\n",
    "    for i in a : \n",
    "        right+=1\n",
    "        if  i.isnumeric() and left==0:\n",
    "            temp =left\n",
    "            left = right\n",
    "        if  i.isnumeric() and right>left>0:\n",
    "            n1 = eval(a[left-1])\n",
    "            n2 = eval(a[right-1])\n",
    "            dic.append((a[left-1:right])) #count('?')))\n",
    "            left=right\n",
    "    if all(c.count('?')>=3 and eval(c[0])+eval(c[-1])>=10 for  c in dic if eval(c[0])+eval(c[-1])>=10 ) and len(dic)>0:\n",
    "        return 'true'\n",
    "            \n",
    "    return 'false'\n",
    "\n"
   ]
  },
  {
   "cell_type": "code",
   "execution_count": null,
   "id": "3b29645c",
   "metadata": {},
   "outputs": [],
   "source": []
  },
  {
   "cell_type": "code",
   "execution_count": null,
   "id": "95827af1",
   "metadata": {},
   "outputs": [],
   "source": [
    "1. For input \"aaaaaaarrrrr??????\" the output was incorrect. The correct output is false\n",
    "\n",
    "2. For input \"mbbv???????????4??????ddsdsdcc9?\" the output was incorrect. The correct output is false"
   ]
  },
  {
   "cell_type": "code",
   "execution_count": 5,
   "id": "06672217",
   "metadata": {},
   "outputs": [
    {
     "data": {
      "text/plain": [
       "'true'"
      ]
     },
     "execution_count": 5,
     "metadata": {},
     "output_type": "execute_result"
    }
   ],
   "source": [
    "a= [\"0,1,3,4\",\"1,4,5\"]\n",
    "a= [\"1, 3, 9, 10, 17, 18\", \"1, 4, 9, 10\"]\n",
    "x =[\"1, 5, 6, 7, 10, 11, 12\", \"5, 6, 8, 11, 17\"]\n",
    "c= [\"1,3,4,7,13\", \"1,2,4,13, 15\"]\n",
    "v= [\"1, 2, 3, 4, 5\", \"6, 7, 8, 9, 10\"]\n",
    "v= [\"1, 2, 4, 5, 6, 9\", \"2, 3, 4, 8, 10\"]\n",
    "\n",
    "k =\"aaaaaaarrrrr??????\"\n",
    "i= \"mbbv???????????4??????ddsdsdcc9?\"\n",
    "questions_marks(i)"
   ]
  },
  {
   "cell_type": "code",
   "execution_count": 14,
   "id": "6e224a31",
   "metadata": {},
   "outputs": [
    {
     "data": {
      "text/plain": [
       "False"
      ]
     },
     "execution_count": 14,
     "metadata": {},
     "output_type": "execute_result"
    }
   ],
   "source": [
    "a= [i for i in range(20)]\n",
    "b= [i**2 for i in a if i%2==0 and i>0]\n",
    "c = all(i>5 for i in b )\n",
    "c = \"Alassane\"\n",
    "d = \"Ndiaye\"\n"
   ]
  },
  {
   "cell_type": "code",
   "execution_count": null,
   "id": "140b9781",
   "metadata": {},
   "outputs": [],
   "source": []
  },
  {
   "cell_type": "code",
   "execution_count": null,
   "id": "0186fe8b",
   "metadata": {},
   "outputs": [],
   "source": []
  }
 ],
 "metadata": {
  "kernelspec": {
   "display_name": "Python 3 (ipykernel)",
   "language": "python",
   "name": "python3"
  },
  "language_info": {
   "codemirror_mode": {
    "name": "ipython",
    "version": 3
   },
   "file_extension": ".py",
   "mimetype": "text/x-python",
   "name": "python",
   "nbconvert_exporter": "python",
   "pygments_lexer": "ipython3",
   "version": "3.11.0"
  }
 },
 "nbformat": 4,
 "nbformat_minor": 5
}
